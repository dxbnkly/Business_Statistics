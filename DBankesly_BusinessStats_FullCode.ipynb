{
  "nbformat": 4,
  "nbformat_minor": 5,
  "metadata": {
    "kernelspec": {
      "display_name": "Python 3",
      "language": "python",
      "name": "python3"
    },
    "language_info": {
      "codemirror_mode": {
        "name": "ipython",
        "version": 3
      },
      "file_extension": ".py",
      "mimetype": "text/x-python",
      "name": "python",
      "nbconvert_exporter": "python",
      "pygments_lexer": "ipython3",
      "version": "3.8.8"
    },
    "colab": {
      "provenance": [],
      "collapsed_sections": [
        "a6a3d218",
        "6970dd99",
        "9d75cfa2",
        "68f3b2c9",
        "fad2de2f",
        "27906576",
        "e5fdf0c8",
        "56b3dafd",
        "c7ee4907",
        "3f58c9a7",
        "5fed2eac",
        "f5c5258d",
        "359b12f8",
        "d9affc84",
        "353e9d24",
        "d49bfa2d",
        "8d585a90",
        "3acbc947"
      ]
    }
  },
  "cells": [
    {
      "cell_type": "markdown",
      "metadata": {
        "id": "6yDxo9u0d9Na"
      },
      "source": [
        "# Project Business Statistics: E-news Express\n",
        "\n",
        "**Marks: 60**"
      ],
      "id": "6yDxo9u0d9Na"
    },
    {
      "cell_type": "markdown",
      "metadata": {
        "id": "SrLd-ICEmPSD"
      },
      "source": [
        "\n",
        "## Define Problem Statement and Objectives"
      ],
      "id": "SrLd-ICEmPSD"
    },
    {
      "cell_type": "markdown",
      "metadata": {
        "id": "9Vt1PLLqmXNn"
      },
      "source": [
        "####*Enhancing E-News Engagement*\n",
        "\n",
        "E-news Express is a niche online news portal offering their patrons access to global stories and events, with the benefits of faster access and interactive elements such as audio, graphics, and video. By analyzing the actions of each website visitor based on their interests, the company aims to gain insights into user preferences and enhance engagement strategies.\n",
        "\n",
        "####*Problem Statement*\n",
        "\n",
        "Recently, C-suite at E-news Express have recognized a decrease in the number of monthly subscribers, possibly due to deficiencies in the current webpage design, particularly in terms of layout and recommended content, which fail to sufficiently engage visitors and prompt them to subscribe.\n",
        "\n",
        "####*Objective*\n",
        "\n",
        "I've been hired as a Data Scientist on the E-news Express team with the goal of analyzing user interest, inspiring engagement, and ultimately increasing the number of subscribers. I plan to carry this out by examining the performance of the updated landing page in recruiting new subscribers. Thus, my control group is defined as the current landing page and my treatment group is defined as the new landing page. Below, please find our target questions:\n",
        "\n",
        "1. Are users spending a greater amount of time on the new landing page compared to the existing one?\n",
        "2. Are the conversion rates higher on the new page in comparison to the old one?\n",
        "3. Does the choice of preferred language influence the conversion status?\n",
        "4. Is the duration spent on the new page consistent across users of different languages?\n"
      ],
      "id": "9Vt1PLLqmXNn"
    },
    {
      "cell_type": "markdown",
      "metadata": {
        "id": "a6a3d218"
      },
      "source": [
        "## Import all the necessary libraries"
      ],
      "id": "a6a3d218"
    },
    {
      "cell_type": "code",
      "metadata": {
        "id": "658c5dec"
      },
      "source": [
        "import pandas as pd\n",
        "import numpy as np\n",
        "import matplotlib.pyplot as plt\n",
        "import seaborn as sns\n",
        "%matplotlib inline\n",
        "import scipy.stats as stats"
      ],
      "id": "658c5dec",
      "execution_count": null,
      "outputs": []
    },
    {
      "cell_type": "markdown",
      "metadata": {
        "id": "6970dd99"
      },
      "source": [
        "## Reading the Data into a DataFrame"
      ],
      "id": "6970dd99"
    },
    {
      "cell_type": "code",
      "metadata": {
        "id": "d3b95640",
        "colab": {
          "base_uri": "https://localhost:8080/"
        },
        "outputId": "34fa1d1a-d958-4a10-a7d3-2a1db4c14fa9"
      },
      "source": [
        "from google.colab import drive\n",
        "drive.mount('/content/drive')\n",
        "df = pd.read_csv('/content/drive/MyDrive/Colab Notebooks/abtest.csv')"
      ],
      "id": "d3b95640",
      "execution_count": null,
      "outputs": [
        {
          "output_type": "stream",
          "name": "stdout",
          "text": [
            "Mounted at /content/drive\n"
          ]
        }
      ]
    },
    {
      "cell_type": "markdown",
      "metadata": {
        "id": "9d75cfa2"
      },
      "source": [
        "## Explore the dataset and extract insights using Exploratory Data Analysis"
      ],
      "id": "9d75cfa2"
    },
    {
      "cell_type": "markdown",
      "metadata": {
        "id": "27201534"
      },
      "source": [
        "- Data Overview\n",
        "  - Viewing the first and last few rows of the dataset\n",
        "  - Checking the shape of the dataset\n",
        "  - Getting the statistical summary for the variables\n",
        "- Check for missing values\n",
        "- Check for duplicates"
      ],
      "id": "27201534"
    },
    {
      "cell_type": "code",
      "metadata": {
        "id": "e1ad11d4",
        "colab": {
          "base_uri": "https://localhost:8080/",
          "height": 204
        },
        "outputId": "9f97fc56-92b5-4bab-ba4d-23786969fe2f"
      },
      "source": [
        "df.head()"
      ],
      "id": "e1ad11d4",
      "execution_count": null,
      "outputs": [
        {
          "output_type": "execute_result",
          "data": {
            "text/plain": [
              "   user_id      group landing_page  time_spent_on_the_page converted  \\\n",
              "0   546592    control          old                    3.48        no   \n",
              "1   546468  treatment          new                    7.13       yes   \n",
              "2   546462  treatment          new                    4.40        no   \n",
              "3   546567    control          old                    3.02        no   \n",
              "4   546459  treatment          new                    4.75       yes   \n",
              "\n",
              "  language_preferred  \n",
              "0            Spanish  \n",
              "1            English  \n",
              "2            Spanish  \n",
              "3             French  \n",
              "4            Spanish  "
            ],
            "text/html": [
              "\n",
              "  <div id=\"df-948ca35e-f172-4d9e-b66a-90afdba5fc98\" class=\"colab-df-container\">\n",
              "    <div>\n",
              "<style scoped>\n",
              "    .dataframe tbody tr th:only-of-type {\n",
              "        vertical-align: middle;\n",
              "    }\n",
              "\n",
              "    .dataframe tbody tr th {\n",
              "        vertical-align: top;\n",
              "    }\n",
              "\n",
              "    .dataframe thead th {\n",
              "        text-align: right;\n",
              "    }\n",
              "</style>\n",
              "<table border=\"1\" class=\"dataframe\">\n",
              "  <thead>\n",
              "    <tr style=\"text-align: right;\">\n",
              "      <th></th>\n",
              "      <th>user_id</th>\n",
              "      <th>group</th>\n",
              "      <th>landing_page</th>\n",
              "      <th>time_spent_on_the_page</th>\n",
              "      <th>converted</th>\n",
              "      <th>language_preferred</th>\n",
              "    </tr>\n",
              "  </thead>\n",
              "  <tbody>\n",
              "    <tr>\n",
              "      <th>0</th>\n",
              "      <td>546592</td>\n",
              "      <td>control</td>\n",
              "      <td>old</td>\n",
              "      <td>3.48</td>\n",
              "      <td>no</td>\n",
              "      <td>Spanish</td>\n",
              "    </tr>\n",
              "    <tr>\n",
              "      <th>1</th>\n",
              "      <td>546468</td>\n",
              "      <td>treatment</td>\n",
              "      <td>new</td>\n",
              "      <td>7.13</td>\n",
              "      <td>yes</td>\n",
              "      <td>English</td>\n",
              "    </tr>\n",
              "    <tr>\n",
              "      <th>2</th>\n",
              "      <td>546462</td>\n",
              "      <td>treatment</td>\n",
              "      <td>new</td>\n",
              "      <td>4.40</td>\n",
              "      <td>no</td>\n",
              "      <td>Spanish</td>\n",
              "    </tr>\n",
              "    <tr>\n",
              "      <th>3</th>\n",
              "      <td>546567</td>\n",
              "      <td>control</td>\n",
              "      <td>old</td>\n",
              "      <td>3.02</td>\n",
              "      <td>no</td>\n",
              "      <td>French</td>\n",
              "    </tr>\n",
              "    <tr>\n",
              "      <th>4</th>\n",
              "      <td>546459</td>\n",
              "      <td>treatment</td>\n",
              "      <td>new</td>\n",
              "      <td>4.75</td>\n",
              "      <td>yes</td>\n",
              "      <td>Spanish</td>\n",
              "    </tr>\n",
              "  </tbody>\n",
              "</table>\n",
              "</div>\n",
              "    <div class=\"colab-df-buttons\">\n",
              "\n",
              "  <div class=\"colab-df-container\">\n",
              "    <button class=\"colab-df-convert\" onclick=\"convertToInteractive('df-948ca35e-f172-4d9e-b66a-90afdba5fc98')\"\n",
              "            title=\"Convert this dataframe to an interactive table.\"\n",
              "            style=\"display:none;\">\n",
              "\n",
              "  <svg xmlns=\"http://www.w3.org/2000/svg\" height=\"24px\" viewBox=\"0 -960 960 960\">\n",
              "    <path d=\"M120-120v-720h720v720H120Zm60-500h600v-160H180v160Zm220 220h160v-160H400v160Zm0 220h160v-160H400v160ZM180-400h160v-160H180v160Zm440 0h160v-160H620v160ZM180-180h160v-160H180v160Zm440 0h160v-160H620v160Z\"/>\n",
              "  </svg>\n",
              "    </button>\n",
              "\n",
              "  <style>\n",
              "    .colab-df-container {\n",
              "      display:flex;\n",
              "      gap: 12px;\n",
              "    }\n",
              "\n",
              "    .colab-df-convert {\n",
              "      background-color: #E8F0FE;\n",
              "      border: none;\n",
              "      border-radius: 50%;\n",
              "      cursor: pointer;\n",
              "      display: none;\n",
              "      fill: #1967D2;\n",
              "      height: 32px;\n",
              "      padding: 0 0 0 0;\n",
              "      width: 32px;\n",
              "    }\n",
              "\n",
              "    .colab-df-convert:hover {\n",
              "      background-color: #E2EBFA;\n",
              "      box-shadow: 0px 1px 2px rgba(60, 64, 67, 0.3), 0px 1px 3px 1px rgba(60, 64, 67, 0.15);\n",
              "      fill: #174EA6;\n",
              "    }\n",
              "\n",
              "    .colab-df-buttons div {\n",
              "      margin-bottom: 4px;\n",
              "    }\n",
              "\n",
              "    [theme=dark] .colab-df-convert {\n",
              "      background-color: #3B4455;\n",
              "      fill: #D2E3FC;\n",
              "    }\n",
              "\n",
              "    [theme=dark] .colab-df-convert:hover {\n",
              "      background-color: #434B5C;\n",
              "      box-shadow: 0px 1px 3px 1px rgba(0, 0, 0, 0.15);\n",
              "      filter: drop-shadow(0px 1px 2px rgba(0, 0, 0, 0.3));\n",
              "      fill: #FFFFFF;\n",
              "    }\n",
              "  </style>\n",
              "\n",
              "    <script>\n",
              "      const buttonEl =\n",
              "        document.querySelector('#df-948ca35e-f172-4d9e-b66a-90afdba5fc98 button.colab-df-convert');\n",
              "      buttonEl.style.display =\n",
              "        google.colab.kernel.accessAllowed ? 'block' : 'none';\n",
              "\n",
              "      async function convertToInteractive(key) {\n",
              "        const element = document.querySelector('#df-948ca35e-f172-4d9e-b66a-90afdba5fc98');\n",
              "        const dataTable =\n",
              "          await google.colab.kernel.invokeFunction('convertToInteractive',\n",
              "                                                    [key], {});\n",
              "        if (!dataTable) return;\n",
              "\n",
              "        const docLinkHtml = 'Like what you see? Visit the ' +\n",
              "          '<a target=\"_blank\" href=https://colab.research.google.com/notebooks/data_table.ipynb>data table notebook</a>'\n",
              "          + ' to learn more about interactive tables.';\n",
              "        element.innerHTML = '';\n",
              "        dataTable['output_type'] = 'display_data';\n",
              "        await google.colab.output.renderOutput(dataTable, element);\n",
              "        const docLink = document.createElement('div');\n",
              "        docLink.innerHTML = docLinkHtml;\n",
              "        element.appendChild(docLink);\n",
              "      }\n",
              "    </script>\n",
              "  </div>\n",
              "\n",
              "\n",
              "<div id=\"df-86252c91-04a2-4302-b31c-41dc62c39c19\">\n",
              "  <button class=\"colab-df-quickchart\" onclick=\"quickchart('df-86252c91-04a2-4302-b31c-41dc62c39c19')\"\n",
              "            title=\"Suggest charts\"\n",
              "            style=\"display:none;\">\n",
              "\n",
              "<svg xmlns=\"http://www.w3.org/2000/svg\" height=\"24px\"viewBox=\"0 0 24 24\"\n",
              "     width=\"24px\">\n",
              "    <g>\n",
              "        <path d=\"M19 3H5c-1.1 0-2 .9-2 2v14c0 1.1.9 2 2 2h14c1.1 0 2-.9 2-2V5c0-1.1-.9-2-2-2zM9 17H7v-7h2v7zm4 0h-2V7h2v10zm4 0h-2v-4h2v4z\"/>\n",
              "    </g>\n",
              "</svg>\n",
              "  </button>\n",
              "\n",
              "<style>\n",
              "  .colab-df-quickchart {\n",
              "      --bg-color: #E8F0FE;\n",
              "      --fill-color: #1967D2;\n",
              "      --hover-bg-color: #E2EBFA;\n",
              "      --hover-fill-color: #174EA6;\n",
              "      --disabled-fill-color: #AAA;\n",
              "      --disabled-bg-color: #DDD;\n",
              "  }\n",
              "\n",
              "  [theme=dark] .colab-df-quickchart {\n",
              "      --bg-color: #3B4455;\n",
              "      --fill-color: #D2E3FC;\n",
              "      --hover-bg-color: #434B5C;\n",
              "      --hover-fill-color: #FFFFFF;\n",
              "      --disabled-bg-color: #3B4455;\n",
              "      --disabled-fill-color: #666;\n",
              "  }\n",
              "\n",
              "  .colab-df-quickchart {\n",
              "    background-color: var(--bg-color);\n",
              "    border: none;\n",
              "    border-radius: 50%;\n",
              "    cursor: pointer;\n",
              "    display: none;\n",
              "    fill: var(--fill-color);\n",
              "    height: 32px;\n",
              "    padding: 0;\n",
              "    width: 32px;\n",
              "  }\n",
              "\n",
              "  .colab-df-quickchart:hover {\n",
              "    background-color: var(--hover-bg-color);\n",
              "    box-shadow: 0 1px 2px rgba(60, 64, 67, 0.3), 0 1px 3px 1px rgba(60, 64, 67, 0.15);\n",
              "    fill: var(--button-hover-fill-color);\n",
              "  }\n",
              "\n",
              "  .colab-df-quickchart-complete:disabled,\n",
              "  .colab-df-quickchart-complete:disabled:hover {\n",
              "    background-color: var(--disabled-bg-color);\n",
              "    fill: var(--disabled-fill-color);\n",
              "    box-shadow: none;\n",
              "  }\n",
              "\n",
              "  .colab-df-spinner {\n",
              "    border: 2px solid var(--fill-color);\n",
              "    border-color: transparent;\n",
              "    border-bottom-color: var(--fill-color);\n",
              "    animation:\n",
              "      spin 1s steps(1) infinite;\n",
              "  }\n",
              "\n",
              "  @keyframes spin {\n",
              "    0% {\n",
              "      border-color: transparent;\n",
              "      border-bottom-color: var(--fill-color);\n",
              "      border-left-color: var(--fill-color);\n",
              "    }\n",
              "    20% {\n",
              "      border-color: transparent;\n",
              "      border-left-color: var(--fill-color);\n",
              "      border-top-color: var(--fill-color);\n",
              "    }\n",
              "    30% {\n",
              "      border-color: transparent;\n",
              "      border-left-color: var(--fill-color);\n",
              "      border-top-color: var(--fill-color);\n",
              "      border-right-color: var(--fill-color);\n",
              "    }\n",
              "    40% {\n",
              "      border-color: transparent;\n",
              "      border-right-color: var(--fill-color);\n",
              "      border-top-color: var(--fill-color);\n",
              "    }\n",
              "    60% {\n",
              "      border-color: transparent;\n",
              "      border-right-color: var(--fill-color);\n",
              "    }\n",
              "    80% {\n",
              "      border-color: transparent;\n",
              "      border-right-color: var(--fill-color);\n",
              "      border-bottom-color: var(--fill-color);\n",
              "    }\n",
              "    90% {\n",
              "      border-color: transparent;\n",
              "      border-bottom-color: var(--fill-color);\n",
              "    }\n",
              "  }\n",
              "</style>\n",
              "\n",
              "  <script>\n",
              "    async function quickchart(key) {\n",
              "      const quickchartButtonEl =\n",
              "        document.querySelector('#' + key + ' button');\n",
              "      quickchartButtonEl.disabled = true;  // To prevent multiple clicks.\n",
              "      quickchartButtonEl.classList.add('colab-df-spinner');\n",
              "      try {\n",
              "        const charts = await google.colab.kernel.invokeFunction(\n",
              "            'suggestCharts', [key], {});\n",
              "      } catch (error) {\n",
              "        console.error('Error during call to suggestCharts:', error);\n",
              "      }\n",
              "      quickchartButtonEl.classList.remove('colab-df-spinner');\n",
              "      quickchartButtonEl.classList.add('colab-df-quickchart-complete');\n",
              "    }\n",
              "    (() => {\n",
              "      let quickchartButtonEl =\n",
              "        document.querySelector('#df-86252c91-04a2-4302-b31c-41dc62c39c19 button');\n",
              "      quickchartButtonEl.style.display =\n",
              "        google.colab.kernel.accessAllowed ? 'block' : 'none';\n",
              "    })();\n",
              "  </script>\n",
              "</div>\n",
              "\n",
              "    </div>\n",
              "  </div>\n"
            ],
            "application/vnd.google.colaboratory.intrinsic+json": {
              "type": "dataframe",
              "variable_name": "df",
              "summary": "{\n  \"name\": \"df\",\n  \"rows\": 100,\n  \"fields\": [\n    {\n      \"column\": \"user_id\",\n      \"properties\": {\n        \"dtype\": \"number\",\n        \"std\": 52,\n        \"min\": 546443,\n        \"max\": 546592,\n        \"num_unique_values\": 100,\n        \"samples\": [\n          546580,\n          546576,\n          546568\n        ],\n        \"semantic_type\": \"\",\n        \"description\": \"\"\n      }\n    },\n    {\n      \"column\": \"group\",\n      \"properties\": {\n        \"dtype\": \"category\",\n        \"num_unique_values\": 2,\n        \"samples\": [\n          \"treatment\",\n          \"control\"\n        ],\n        \"semantic_type\": \"\",\n        \"description\": \"\"\n      }\n    },\n    {\n      \"column\": \"landing_page\",\n      \"properties\": {\n        \"dtype\": \"category\",\n        \"num_unique_values\": 2,\n        \"samples\": [\n          \"new\",\n          \"old\"\n        ],\n        \"semantic_type\": \"\",\n        \"description\": \"\"\n      }\n    },\n    {\n      \"column\": \"time_spent_on_the_page\",\n      \"properties\": {\n        \"dtype\": \"number\",\n        \"std\": 2.378166078933492,\n        \"min\": 0.19,\n        \"max\": 10.71,\n        \"num_unique_values\": 94,\n        \"samples\": [\n          8.46,\n          3.65\n        ],\n        \"semantic_type\": \"\",\n        \"description\": \"\"\n      }\n    },\n    {\n      \"column\": \"converted\",\n      \"properties\": {\n        \"dtype\": \"category\",\n        \"num_unique_values\": 2,\n        \"samples\": [\n          \"yes\",\n          \"no\"\n        ],\n        \"semantic_type\": \"\",\n        \"description\": \"\"\n      }\n    },\n    {\n      \"column\": \"language_preferred\",\n      \"properties\": {\n        \"dtype\": \"category\",\n        \"num_unique_values\": 3,\n        \"samples\": [\n          \"Spanish\",\n          \"English\"\n        ],\n        \"semantic_type\": \"\",\n        \"description\": \"\"\n      }\n    }\n  ]\n}"
            }
          },
          "metadata": {},
          "execution_count": 3
        }
      ]
    },
    {
      "cell_type": "code",
      "source": [
        "df.tail()"
      ],
      "metadata": {
        "colab": {
          "base_uri": "https://localhost:8080/",
          "height": 204
        },
        "id": "4UCmh2g_vSfc",
        "outputId": "5eef3018-fee4-45a7-def8-3a4242dafa93"
      },
      "id": "4UCmh2g_vSfc",
      "execution_count": null,
      "outputs": [
        {
          "output_type": "execute_result",
          "data": {
            "text/plain": [
              "    user_id      group landing_page  time_spent_on_the_page converted  \\\n",
              "95   546446  treatment          new                    5.15        no   \n",
              "96   546544    control          old                    6.52       yes   \n",
              "97   546472  treatment          new                    7.07       yes   \n",
              "98   546481  treatment          new                    6.20       yes   \n",
              "99   546483  treatment          new                    5.86       yes   \n",
              "\n",
              "   language_preferred  \n",
              "95            Spanish  \n",
              "96            English  \n",
              "97            Spanish  \n",
              "98            Spanish  \n",
              "99            English  "
            ],
            "text/html": [
              "\n",
              "  <div id=\"df-677b4d84-396c-4a14-863c-fdde2925d391\" class=\"colab-df-container\">\n",
              "    <div>\n",
              "<style scoped>\n",
              "    .dataframe tbody tr th:only-of-type {\n",
              "        vertical-align: middle;\n",
              "    }\n",
              "\n",
              "    .dataframe tbody tr th {\n",
              "        vertical-align: top;\n",
              "    }\n",
              "\n",
              "    .dataframe thead th {\n",
              "        text-align: right;\n",
              "    }\n",
              "</style>\n",
              "<table border=\"1\" class=\"dataframe\">\n",
              "  <thead>\n",
              "    <tr style=\"text-align: right;\">\n",
              "      <th></th>\n",
              "      <th>user_id</th>\n",
              "      <th>group</th>\n",
              "      <th>landing_page</th>\n",
              "      <th>time_spent_on_the_page</th>\n",
              "      <th>converted</th>\n",
              "      <th>language_preferred</th>\n",
              "    </tr>\n",
              "  </thead>\n",
              "  <tbody>\n",
              "    <tr>\n",
              "      <th>95</th>\n",
              "      <td>546446</td>\n",
              "      <td>treatment</td>\n",
              "      <td>new</td>\n",
              "      <td>5.15</td>\n",
              "      <td>no</td>\n",
              "      <td>Spanish</td>\n",
              "    </tr>\n",
              "    <tr>\n",
              "      <th>96</th>\n",
              "      <td>546544</td>\n",
              "      <td>control</td>\n",
              "      <td>old</td>\n",
              "      <td>6.52</td>\n",
              "      <td>yes</td>\n",
              "      <td>English</td>\n",
              "    </tr>\n",
              "    <tr>\n",
              "      <th>97</th>\n",
              "      <td>546472</td>\n",
              "      <td>treatment</td>\n",
              "      <td>new</td>\n",
              "      <td>7.07</td>\n",
              "      <td>yes</td>\n",
              "      <td>Spanish</td>\n",
              "    </tr>\n",
              "    <tr>\n",
              "      <th>98</th>\n",
              "      <td>546481</td>\n",
              "      <td>treatment</td>\n",
              "      <td>new</td>\n",
              "      <td>6.20</td>\n",
              "      <td>yes</td>\n",
              "      <td>Spanish</td>\n",
              "    </tr>\n",
              "    <tr>\n",
              "      <th>99</th>\n",
              "      <td>546483</td>\n",
              "      <td>treatment</td>\n",
              "      <td>new</td>\n",
              "      <td>5.86</td>\n",
              "      <td>yes</td>\n",
              "      <td>English</td>\n",
              "    </tr>\n",
              "  </tbody>\n",
              "</table>\n",
              "</div>\n",
              "    <div class=\"colab-df-buttons\">\n",
              "\n",
              "  <div class=\"colab-df-container\">\n",
              "    <button class=\"colab-df-convert\" onclick=\"convertToInteractive('df-677b4d84-396c-4a14-863c-fdde2925d391')\"\n",
              "            title=\"Convert this dataframe to an interactive table.\"\n",
              "            style=\"display:none;\">\n",
              "\n",
              "  <svg xmlns=\"http://www.w3.org/2000/svg\" height=\"24px\" viewBox=\"0 -960 960 960\">\n",
              "    <path d=\"M120-120v-720h720v720H120Zm60-500h600v-160H180v160Zm220 220h160v-160H400v160Zm0 220h160v-160H400v160ZM180-400h160v-160H180v160Zm440 0h160v-160H620v160ZM180-180h160v-160H180v160Zm440 0h160v-160H620v160Z\"/>\n",
              "  </svg>\n",
              "    </button>\n",
              "\n",
              "  <style>\n",
              "    .colab-df-container {\n",
              "      display:flex;\n",
              "      gap: 12px;\n",
              "    }\n",
              "\n",
              "    .colab-df-convert {\n",
              "      background-color: #E8F0FE;\n",
              "      border: none;\n",
              "      border-radius: 50%;\n",
              "      cursor: pointer;\n",
              "      display: none;\n",
              "      fill: #1967D2;\n",
              "      height: 32px;\n",
              "      padding: 0 0 0 0;\n",
              "      width: 32px;\n",
              "    }\n",
              "\n",
              "    .colab-df-convert:hover {\n",
              "      background-color: #E2EBFA;\n",
              "      box-shadow: 0px 1px 2px rgba(60, 64, 67, 0.3), 0px 1px 3px 1px rgba(60, 64, 67, 0.15);\n",
              "      fill: #174EA6;\n",
              "    }\n",
              "\n",
              "    .colab-df-buttons div {\n",
              "      margin-bottom: 4px;\n",
              "    }\n",
              "\n",
              "    [theme=dark] .colab-df-convert {\n",
              "      background-color: #3B4455;\n",
              "      fill: #D2E3FC;\n",
              "    }\n",
              "\n",
              "    [theme=dark] .colab-df-convert:hover {\n",
              "      background-color: #434B5C;\n",
              "      box-shadow: 0px 1px 3px 1px rgba(0, 0, 0, 0.15);\n",
              "      filter: drop-shadow(0px 1px 2px rgba(0, 0, 0, 0.3));\n",
              "      fill: #FFFFFF;\n",
              "    }\n",
              "  </style>\n",
              "\n",
              "    <script>\n",
              "      const buttonEl =\n",
              "        document.querySelector('#df-677b4d84-396c-4a14-863c-fdde2925d391 button.colab-df-convert');\n",
              "      buttonEl.style.display =\n",
              "        google.colab.kernel.accessAllowed ? 'block' : 'none';\n",
              "\n",
              "      async function convertToInteractive(key) {\n",
              "        const element = document.querySelector('#df-677b4d84-396c-4a14-863c-fdde2925d391');\n",
              "        const dataTable =\n",
              "          await google.colab.kernel.invokeFunction('convertToInteractive',\n",
              "                                                    [key], {});\n",
              "        if (!dataTable) return;\n",
              "\n",
              "        const docLinkHtml = 'Like what you see? Visit the ' +\n",
              "          '<a target=\"_blank\" href=https://colab.research.google.com/notebooks/data_table.ipynb>data table notebook</a>'\n",
              "          + ' to learn more about interactive tables.';\n",
              "        element.innerHTML = '';\n",
              "        dataTable['output_type'] = 'display_data';\n",
              "        await google.colab.output.renderOutput(dataTable, element);\n",
              "        const docLink = document.createElement('div');\n",
              "        docLink.innerHTML = docLinkHtml;\n",
              "        element.appendChild(docLink);\n",
              "      }\n",
              "    </script>\n",
              "  </div>\n",
              "\n",
              "\n",
              "<div id=\"df-8876db88-b48a-4109-894c-d5e26fbf2ced\">\n",
              "  <button class=\"colab-df-quickchart\" onclick=\"quickchart('df-8876db88-b48a-4109-894c-d5e26fbf2ced')\"\n",
              "            title=\"Suggest charts\"\n",
              "            style=\"display:none;\">\n",
              "\n",
              "<svg xmlns=\"http://www.w3.org/2000/svg\" height=\"24px\"viewBox=\"0 0 24 24\"\n",
              "     width=\"24px\">\n",
              "    <g>\n",
              "        <path d=\"M19 3H5c-1.1 0-2 .9-2 2v14c0 1.1.9 2 2 2h14c1.1 0 2-.9 2-2V5c0-1.1-.9-2-2-2zM9 17H7v-7h2v7zm4 0h-2V7h2v10zm4 0h-2v-4h2v4z\"/>\n",
              "    </g>\n",
              "</svg>\n",
              "  </button>\n",
              "\n",
              "<style>\n",
              "  .colab-df-quickchart {\n",
              "      --bg-color: #E8F0FE;\n",
              "      --fill-color: #1967D2;\n",
              "      --hover-bg-color: #E2EBFA;\n",
              "      --hover-fill-color: #174EA6;\n",
              "      --disabled-fill-color: #AAA;\n",
              "      --disabled-bg-color: #DDD;\n",
              "  }\n",
              "\n",
              "  [theme=dark] .colab-df-quickchart {\n",
              "      --bg-color: #3B4455;\n",
              "      --fill-color: #D2E3FC;\n",
              "      --hover-bg-color: #434B5C;\n",
              "      --hover-fill-color: #FFFFFF;\n",
              "      --disabled-bg-color: #3B4455;\n",
              "      --disabled-fill-color: #666;\n",
              "  }\n",
              "\n",
              "  .colab-df-quickchart {\n",
              "    background-color: var(--bg-color);\n",
              "    border: none;\n",
              "    border-radius: 50%;\n",
              "    cursor: pointer;\n",
              "    display: none;\n",
              "    fill: var(--fill-color);\n",
              "    height: 32px;\n",
              "    padding: 0;\n",
              "    width: 32px;\n",
              "  }\n",
              "\n",
              "  .colab-df-quickchart:hover {\n",
              "    background-color: var(--hover-bg-color);\n",
              "    box-shadow: 0 1px 2px rgba(60, 64, 67, 0.3), 0 1px 3px 1px rgba(60, 64, 67, 0.15);\n",
              "    fill: var(--button-hover-fill-color);\n",
              "  }\n",
              "\n",
              "  .colab-df-quickchart-complete:disabled,\n",
              "  .colab-df-quickchart-complete:disabled:hover {\n",
              "    background-color: var(--disabled-bg-color);\n",
              "    fill: var(--disabled-fill-color);\n",
              "    box-shadow: none;\n",
              "  }\n",
              "\n",
              "  .colab-df-spinner {\n",
              "    border: 2px solid var(--fill-color);\n",
              "    border-color: transparent;\n",
              "    border-bottom-color: var(--fill-color);\n",
              "    animation:\n",
              "      spin 1s steps(1) infinite;\n",
              "  }\n",
              "\n",
              "  @keyframes spin {\n",
              "    0% {\n",
              "      border-color: transparent;\n",
              "      border-bottom-color: var(--fill-color);\n",
              "      border-left-color: var(--fill-color);\n",
              "    }\n",
              "    20% {\n",
              "      border-color: transparent;\n",
              "      border-left-color: var(--fill-color);\n",
              "      border-top-color: var(--fill-color);\n",
              "    }\n",
              "    30% {\n",
              "      border-color: transparent;\n",
              "      border-left-color: var(--fill-color);\n",
              "      border-top-color: var(--fill-color);\n",
              "      border-right-color: var(--fill-color);\n",
              "    }\n",
              "    40% {\n",
              "      border-color: transparent;\n",
              "      border-right-color: var(--fill-color);\n",
              "      border-top-color: var(--fill-color);\n",
              "    }\n",
              "    60% {\n",
              "      border-color: transparent;\n",
              "      border-right-color: var(--fill-color);\n",
              "    }\n",
              "    80% {\n",
              "      border-color: transparent;\n",
              "      border-right-color: var(--fill-color);\n",
              "      border-bottom-color: var(--fill-color);\n",
              "    }\n",
              "    90% {\n",
              "      border-color: transparent;\n",
              "      border-bottom-color: var(--fill-color);\n",
              "    }\n",
              "  }\n",
              "</style>\n",
              "\n",
              "  <script>\n",
              "    async function quickchart(key) {\n",
              "      const quickchartButtonEl =\n",
              "        document.querySelector('#' + key + ' button');\n",
              "      quickchartButtonEl.disabled = true;  // To prevent multiple clicks.\n",
              "      quickchartButtonEl.classList.add('colab-df-spinner');\n",
              "      try {\n",
              "        const charts = await google.colab.kernel.invokeFunction(\n",
              "            'suggestCharts', [key], {});\n",
              "      } catch (error) {\n",
              "        console.error('Error during call to suggestCharts:', error);\n",
              "      }\n",
              "      quickchartButtonEl.classList.remove('colab-df-spinner');\n",
              "      quickchartButtonEl.classList.add('colab-df-quickchart-complete');\n",
              "    }\n",
              "    (() => {\n",
              "      let quickchartButtonEl =\n",
              "        document.querySelector('#df-8876db88-b48a-4109-894c-d5e26fbf2ced button');\n",
              "      quickchartButtonEl.style.display =\n",
              "        google.colab.kernel.accessAllowed ? 'block' : 'none';\n",
              "    })();\n",
              "  </script>\n",
              "</div>\n",
              "\n",
              "    </div>\n",
              "  </div>\n"
            ],
            "application/vnd.google.colaboratory.intrinsic+json": {
              "type": "dataframe",
              "summary": "{\n  \"name\": \"df\",\n  \"rows\": 5,\n  \"fields\": [\n    {\n      \"column\": \"user_id\",\n      \"properties\": {\n        \"dtype\": \"number\",\n        \"std\": 36,\n        \"min\": 546446,\n        \"max\": 546544,\n        \"num_unique_values\": 5,\n        \"samples\": [\n          546544,\n          546483,\n          546472\n        ],\n        \"semantic_type\": \"\",\n        \"description\": \"\"\n      }\n    },\n    {\n      \"column\": \"group\",\n      \"properties\": {\n        \"dtype\": \"category\",\n        \"num_unique_values\": 2,\n        \"samples\": [\n          \"control\",\n          \"treatment\"\n        ],\n        \"semantic_type\": \"\",\n        \"description\": \"\"\n      }\n    },\n    {\n      \"column\": \"landing_page\",\n      \"properties\": {\n        \"dtype\": \"category\",\n        \"num_unique_values\": 2,\n        \"samples\": [\n          \"old\",\n          \"new\"\n        ],\n        \"semantic_type\": \"\",\n        \"description\": \"\"\n      }\n    },\n    {\n      \"column\": \"time_spent_on_the_page\",\n      \"properties\": {\n        \"dtype\": \"number\",\n        \"std\": 0.7192704637339141,\n        \"min\": 5.15,\n        \"max\": 7.07,\n        \"num_unique_values\": 5,\n        \"samples\": [\n          6.52,\n          5.86\n        ],\n        \"semantic_type\": \"\",\n        \"description\": \"\"\n      }\n    },\n    {\n      \"column\": \"converted\",\n      \"properties\": {\n        \"dtype\": \"category\",\n        \"num_unique_values\": 2,\n        \"samples\": [\n          \"yes\",\n          \"no\"\n        ],\n        \"semantic_type\": \"\",\n        \"description\": \"\"\n      }\n    },\n    {\n      \"column\": \"language_preferred\",\n      \"properties\": {\n        \"dtype\": \"category\",\n        \"num_unique_values\": 2,\n        \"samples\": [\n          \"English\",\n          \"Spanish\"\n        ],\n        \"semantic_type\": \"\",\n        \"description\": \"\"\n      }\n    }\n  ]\n}"
            }
          },
          "metadata": {},
          "execution_count": 4
        }
      ]
    },
    {
      "cell_type": "markdown",
      "source": [
        "#### Data Dictionary:\n",
        "\n",
        "user_id - refers to the unique user ID of website visitor\n",
        "\n",
        "group - represents the intended experimental condition for each user, control vs treatment\n",
        "\n",
        "landing_page - indicates the new or the old landing page\n",
        "\n",
        "time_spent_on_the_page - refers to the duration, measured in minutes, that a visitor remains engaged with the landing page\n",
        "\n",
        "converted - denotes whether the user has become a subscriber of the news portal or not\n",
        "\n",
        "language_preferred - indicates the language opted for by the user to view the landing page"
      ],
      "metadata": {
        "id": "ASOf9vjbxCQa"
      },
      "id": "ASOf9vjbxCQa"
    },
    {
      "cell_type": "code",
      "source": [
        "df.shape"
      ],
      "metadata": {
        "colab": {
          "base_uri": "https://localhost:8080/"
        },
        "id": "j3hw4JhZvUaW",
        "outputId": "ee263168-5353-4f08-87d9-016650085395"
      },
      "id": "j3hw4JhZvUaW",
      "execution_count": null,
      "outputs": [
        {
          "output_type": "execute_result",
          "data": {
            "text/plain": [
              "(100, 6)"
            ]
          },
          "metadata": {},
          "execution_count": 5
        }
      ]
    },
    {
      "cell_type": "code",
      "source": [
        "df.info()"
      ],
      "metadata": {
        "colab": {
          "base_uri": "https://localhost:8080/"
        },
        "id": "llNON5zuvbFI",
        "outputId": "d5d0846a-911f-40d5-fde3-ebb30e228af8"
      },
      "id": "llNON5zuvbFI",
      "execution_count": null,
      "outputs": [
        {
          "output_type": "stream",
          "name": "stdout",
          "text": [
            "<class 'pandas.core.frame.DataFrame'>\n",
            "RangeIndex: 100 entries, 0 to 99\n",
            "Data columns (total 6 columns):\n",
            " #   Column                  Non-Null Count  Dtype  \n",
            "---  ------                  --------------  -----  \n",
            " 0   user_id                 100 non-null    int64  \n",
            " 1   group                   100 non-null    object \n",
            " 2   landing_page            100 non-null    object \n",
            " 3   time_spent_on_the_page  100 non-null    float64\n",
            " 4   converted               100 non-null    object \n",
            " 5   language_preferred      100 non-null    object \n",
            "dtypes: float64(1), int64(1), object(4)\n",
            "memory usage: 4.8+ KB\n"
          ]
        }
      ]
    },
    {
      "cell_type": "code",
      "source": [
        "df.describe(include='all').T"
      ],
      "metadata": {
        "colab": {
          "base_uri": "https://localhost:8080/",
          "height": 235
        },
        "id": "uUYOPE8bvt_T",
        "outputId": "36d9be21-15d4-4a18-c981-29ba66226ef4"
      },
      "id": "uUYOPE8bvt_T",
      "execution_count": null,
      "outputs": [
        {
          "output_type": "execute_result",
          "data": {
            "text/plain": [
              "                        count unique      top freq      mean        std  \\\n",
              "user_id                 100.0    NaN      NaN  NaN  546517.0  52.295779   \n",
              "group                     100      2  control   50       NaN        NaN   \n",
              "landing_page              100      2      old   50       NaN        NaN   \n",
              "time_spent_on_the_page  100.0    NaN      NaN  NaN    5.3778   2.378166   \n",
              "converted                 100      2      yes   54       NaN        NaN   \n",
              "language_preferred        100      3  Spanish   34       NaN        NaN   \n",
              "\n",
              "                             min        25%       50%        75%       max  \n",
              "user_id                 546443.0  546467.75  546492.5  546567.25  546592.0  \n",
              "group                        NaN        NaN       NaN        NaN       NaN  \n",
              "landing_page                 NaN        NaN       NaN        NaN       NaN  \n",
              "time_spent_on_the_page      0.19       3.88     5.415     7.0225     10.71  \n",
              "converted                    NaN        NaN       NaN        NaN       NaN  \n",
              "language_preferred           NaN        NaN       NaN        NaN       NaN  "
            ],
            "text/html": [
              "\n",
              "  <div id=\"df-3fc54038-bb37-443d-a22c-f6eead5e4a1d\" class=\"colab-df-container\">\n",
              "    <div>\n",
              "<style scoped>\n",
              "    .dataframe tbody tr th:only-of-type {\n",
              "        vertical-align: middle;\n",
              "    }\n",
              "\n",
              "    .dataframe tbody tr th {\n",
              "        vertical-align: top;\n",
              "    }\n",
              "\n",
              "    .dataframe thead th {\n",
              "        text-align: right;\n",
              "    }\n",
              "</style>\n",
              "<table border=\"1\" class=\"dataframe\">\n",
              "  <thead>\n",
              "    <tr style=\"text-align: right;\">\n",
              "      <th></th>\n",
              "      <th>count</th>\n",
              "      <th>unique</th>\n",
              "      <th>top</th>\n",
              "      <th>freq</th>\n",
              "      <th>mean</th>\n",
              "      <th>std</th>\n",
              "      <th>min</th>\n",
              "      <th>25%</th>\n",
              "      <th>50%</th>\n",
              "      <th>75%</th>\n",
              "      <th>max</th>\n",
              "    </tr>\n",
              "  </thead>\n",
              "  <tbody>\n",
              "    <tr>\n",
              "      <th>user_id</th>\n",
              "      <td>100.0</td>\n",
              "      <td>NaN</td>\n",
              "      <td>NaN</td>\n",
              "      <td>NaN</td>\n",
              "      <td>546517.0</td>\n",
              "      <td>52.295779</td>\n",
              "      <td>546443.0</td>\n",
              "      <td>546467.75</td>\n",
              "      <td>546492.5</td>\n",
              "      <td>546567.25</td>\n",
              "      <td>546592.0</td>\n",
              "    </tr>\n",
              "    <tr>\n",
              "      <th>group</th>\n",
              "      <td>100</td>\n",
              "      <td>2</td>\n",
              "      <td>control</td>\n",
              "      <td>50</td>\n",
              "      <td>NaN</td>\n",
              "      <td>NaN</td>\n",
              "      <td>NaN</td>\n",
              "      <td>NaN</td>\n",
              "      <td>NaN</td>\n",
              "      <td>NaN</td>\n",
              "      <td>NaN</td>\n",
              "    </tr>\n",
              "    <tr>\n",
              "      <th>landing_page</th>\n",
              "      <td>100</td>\n",
              "      <td>2</td>\n",
              "      <td>old</td>\n",
              "      <td>50</td>\n",
              "      <td>NaN</td>\n",
              "      <td>NaN</td>\n",
              "      <td>NaN</td>\n",
              "      <td>NaN</td>\n",
              "      <td>NaN</td>\n",
              "      <td>NaN</td>\n",
              "      <td>NaN</td>\n",
              "    </tr>\n",
              "    <tr>\n",
              "      <th>time_spent_on_the_page</th>\n",
              "      <td>100.0</td>\n",
              "      <td>NaN</td>\n",
              "      <td>NaN</td>\n",
              "      <td>NaN</td>\n",
              "      <td>5.3778</td>\n",
              "      <td>2.378166</td>\n",
              "      <td>0.19</td>\n",
              "      <td>3.88</td>\n",
              "      <td>5.415</td>\n",
              "      <td>7.0225</td>\n",
              "      <td>10.71</td>\n",
              "    </tr>\n",
              "    <tr>\n",
              "      <th>converted</th>\n",
              "      <td>100</td>\n",
              "      <td>2</td>\n",
              "      <td>yes</td>\n",
              "      <td>54</td>\n",
              "      <td>NaN</td>\n",
              "      <td>NaN</td>\n",
              "      <td>NaN</td>\n",
              "      <td>NaN</td>\n",
              "      <td>NaN</td>\n",
              "      <td>NaN</td>\n",
              "      <td>NaN</td>\n",
              "    </tr>\n",
              "    <tr>\n",
              "      <th>language_preferred</th>\n",
              "      <td>100</td>\n",
              "      <td>3</td>\n",
              "      <td>Spanish</td>\n",
              "      <td>34</td>\n",
              "      <td>NaN</td>\n",
              "      <td>NaN</td>\n",
              "      <td>NaN</td>\n",
              "      <td>NaN</td>\n",
              "      <td>NaN</td>\n",
              "      <td>NaN</td>\n",
              "      <td>NaN</td>\n",
              "    </tr>\n",
              "  </tbody>\n",
              "</table>\n",
              "</div>\n",
              "    <div class=\"colab-df-buttons\">\n",
              "\n",
              "  <div class=\"colab-df-container\">\n",
              "    <button class=\"colab-df-convert\" onclick=\"convertToInteractive('df-3fc54038-bb37-443d-a22c-f6eead5e4a1d')\"\n",
              "            title=\"Convert this dataframe to an interactive table.\"\n",
              "            style=\"display:none;\">\n",
              "\n",
              "  <svg xmlns=\"http://www.w3.org/2000/svg\" height=\"24px\" viewBox=\"0 -960 960 960\">\n",
              "    <path d=\"M120-120v-720h720v720H120Zm60-500h600v-160H180v160Zm220 220h160v-160H400v160Zm0 220h160v-160H400v160ZM180-400h160v-160H180v160Zm440 0h160v-160H620v160ZM180-180h160v-160H180v160Zm440 0h160v-160H620v160Z\"/>\n",
              "  </svg>\n",
              "    </button>\n",
              "\n",
              "  <style>\n",
              "    .colab-df-container {\n",
              "      display:flex;\n",
              "      gap: 12px;\n",
              "    }\n",
              "\n",
              "    .colab-df-convert {\n",
              "      background-color: #E8F0FE;\n",
              "      border: none;\n",
              "      border-radius: 50%;\n",
              "      cursor: pointer;\n",
              "      display: none;\n",
              "      fill: #1967D2;\n",
              "      height: 32px;\n",
              "      padding: 0 0 0 0;\n",
              "      width: 32px;\n",
              "    }\n",
              "\n",
              "    .colab-df-convert:hover {\n",
              "      background-color: #E2EBFA;\n",
              "      box-shadow: 0px 1px 2px rgba(60, 64, 67, 0.3), 0px 1px 3px 1px rgba(60, 64, 67, 0.15);\n",
              "      fill: #174EA6;\n",
              "    }\n",
              "\n",
              "    .colab-df-buttons div {\n",
              "      margin-bottom: 4px;\n",
              "    }\n",
              "\n",
              "    [theme=dark] .colab-df-convert {\n",
              "      background-color: #3B4455;\n",
              "      fill: #D2E3FC;\n",
              "    }\n",
              "\n",
              "    [theme=dark] .colab-df-convert:hover {\n",
              "      background-color: #434B5C;\n",
              "      box-shadow: 0px 1px 3px 1px rgba(0, 0, 0, 0.15);\n",
              "      filter: drop-shadow(0px 1px 2px rgba(0, 0, 0, 0.3));\n",
              "      fill: #FFFFFF;\n",
              "    }\n",
              "  </style>\n",
              "\n",
              "    <script>\n",
              "      const buttonEl =\n",
              "        document.querySelector('#df-3fc54038-bb37-443d-a22c-f6eead5e4a1d button.colab-df-convert');\n",
              "      buttonEl.style.display =\n",
              "        google.colab.kernel.accessAllowed ? 'block' : 'none';\n",
              "\n",
              "      async function convertToInteractive(key) {\n",
              "        const element = document.querySelector('#df-3fc54038-bb37-443d-a22c-f6eead5e4a1d');\n",
              "        const dataTable =\n",
              "          await google.colab.kernel.invokeFunction('convertToInteractive',\n",
              "                                                    [key], {});\n",
              "        if (!dataTable) return;\n",
              "\n",
              "        const docLinkHtml = 'Like what you see? Visit the ' +\n",
              "          '<a target=\"_blank\" href=https://colab.research.google.com/notebooks/data_table.ipynb>data table notebook</a>'\n",
              "          + ' to learn more about interactive tables.';\n",
              "        element.innerHTML = '';\n",
              "        dataTable['output_type'] = 'display_data';\n",
              "        await google.colab.output.renderOutput(dataTable, element);\n",
              "        const docLink = document.createElement('div');\n",
              "        docLink.innerHTML = docLinkHtml;\n",
              "        element.appendChild(docLink);\n",
              "      }\n",
              "    </script>\n",
              "  </div>\n",
              "\n",
              "\n",
              "<div id=\"df-0e979dfa-4e08-4179-a178-b3c2d15b786a\">\n",
              "  <button class=\"colab-df-quickchart\" onclick=\"quickchart('df-0e979dfa-4e08-4179-a178-b3c2d15b786a')\"\n",
              "            title=\"Suggest charts\"\n",
              "            style=\"display:none;\">\n",
              "\n",
              "<svg xmlns=\"http://www.w3.org/2000/svg\" height=\"24px\"viewBox=\"0 0 24 24\"\n",
              "     width=\"24px\">\n",
              "    <g>\n",
              "        <path d=\"M19 3H5c-1.1 0-2 .9-2 2v14c0 1.1.9 2 2 2h14c1.1 0 2-.9 2-2V5c0-1.1-.9-2-2-2zM9 17H7v-7h2v7zm4 0h-2V7h2v10zm4 0h-2v-4h2v4z\"/>\n",
              "    </g>\n",
              "</svg>\n",
              "  </button>\n",
              "\n",
              "<style>\n",
              "  .colab-df-quickchart {\n",
              "      --bg-color: #E8F0FE;\n",
              "      --fill-color: #1967D2;\n",
              "      --hover-bg-color: #E2EBFA;\n",
              "      --hover-fill-color: #174EA6;\n",
              "      --disabled-fill-color: #AAA;\n",
              "      --disabled-bg-color: #DDD;\n",
              "  }\n",
              "\n",
              "  [theme=dark] .colab-df-quickchart {\n",
              "      --bg-color: #3B4455;\n",
              "      --fill-color: #D2E3FC;\n",
              "      --hover-bg-color: #434B5C;\n",
              "      --hover-fill-color: #FFFFFF;\n",
              "      --disabled-bg-color: #3B4455;\n",
              "      --disabled-fill-color: #666;\n",
              "  }\n",
              "\n",
              "  .colab-df-quickchart {\n",
              "    background-color: var(--bg-color);\n",
              "    border: none;\n",
              "    border-radius: 50%;\n",
              "    cursor: pointer;\n",
              "    display: none;\n",
              "    fill: var(--fill-color);\n",
              "    height: 32px;\n",
              "    padding: 0;\n",
              "    width: 32px;\n",
              "  }\n",
              "\n",
              "  .colab-df-quickchart:hover {\n",
              "    background-color: var(--hover-bg-color);\n",
              "    box-shadow: 0 1px 2px rgba(60, 64, 67, 0.3), 0 1px 3px 1px rgba(60, 64, 67, 0.15);\n",
              "    fill: var(--button-hover-fill-color);\n",
              "  }\n",
              "\n",
              "  .colab-df-quickchart-complete:disabled,\n",
              "  .colab-df-quickchart-complete:disabled:hover {\n",
              "    background-color: var(--disabled-bg-color);\n",
              "    fill: var(--disabled-fill-color);\n",
              "    box-shadow: none;\n",
              "  }\n",
              "\n",
              "  .colab-df-spinner {\n",
              "    border: 2px solid var(--fill-color);\n",
              "    border-color: transparent;\n",
              "    border-bottom-color: var(--fill-color);\n",
              "    animation:\n",
              "      spin 1s steps(1) infinite;\n",
              "  }\n",
              "\n",
              "  @keyframes spin {\n",
              "    0% {\n",
              "      border-color: transparent;\n",
              "      border-bottom-color: var(--fill-color);\n",
              "      border-left-color: var(--fill-color);\n",
              "    }\n",
              "    20% {\n",
              "      border-color: transparent;\n",
              "      border-left-color: var(--fill-color);\n",
              "      border-top-color: var(--fill-color);\n",
              "    }\n",
              "    30% {\n",
              "      border-color: transparent;\n",
              "      border-left-color: var(--fill-color);\n",
              "      border-top-color: var(--fill-color);\n",
              "      border-right-color: var(--fill-color);\n",
              "    }\n",
              "    40% {\n",
              "      border-color: transparent;\n",
              "      border-right-color: var(--fill-color);\n",
              "      border-top-color: var(--fill-color);\n",
              "    }\n",
              "    60% {\n",
              "      border-color: transparent;\n",
              "      border-right-color: var(--fill-color);\n",
              "    }\n",
              "    80% {\n",
              "      border-color: transparent;\n",
              "      border-right-color: var(--fill-color);\n",
              "      border-bottom-color: var(--fill-color);\n",
              "    }\n",
              "    90% {\n",
              "      border-color: transparent;\n",
              "      border-bottom-color: var(--fill-color);\n",
              "    }\n",
              "  }\n",
              "</style>\n",
              "\n",
              "  <script>\n",
              "    async function quickchart(key) {\n",
              "      const quickchartButtonEl =\n",
              "        document.querySelector('#' + key + ' button');\n",
              "      quickchartButtonEl.disabled = true;  // To prevent multiple clicks.\n",
              "      quickchartButtonEl.classList.add('colab-df-spinner');\n",
              "      try {\n",
              "        const charts = await google.colab.kernel.invokeFunction(\n",
              "            'suggestCharts', [key], {});\n",
              "      } catch (error) {\n",
              "        console.error('Error during call to suggestCharts:', error);\n",
              "      }\n",
              "      quickchartButtonEl.classList.remove('colab-df-spinner');\n",
              "      quickchartButtonEl.classList.add('colab-df-quickchart-complete');\n",
              "    }\n",
              "    (() => {\n",
              "      let quickchartButtonEl =\n",
              "        document.querySelector('#df-0e979dfa-4e08-4179-a178-b3c2d15b786a button');\n",
              "      quickchartButtonEl.style.display =\n",
              "        google.colab.kernel.accessAllowed ? 'block' : 'none';\n",
              "    })();\n",
              "  </script>\n",
              "</div>\n",
              "\n",
              "    </div>\n",
              "  </div>\n"
            ],
            "application/vnd.google.colaboratory.intrinsic+json": {
              "type": "dataframe",
              "repr_error": "'str' object has no attribute 'empty'"
            }
          },
          "metadata": {},
          "execution_count": 7
        }
      ]
    },
    {
      "cell_type": "code",
      "source": [
        "print(f\"Total Missing Values:\\n{df.isnull().sum()}\")"
      ],
      "metadata": {
        "colab": {
          "base_uri": "https://localhost:8080/"
        },
        "id": "azvFLUb0xyFE",
        "outputId": "2153f9d4-ceae-413d-c3b5-32c6ad5400a7"
      },
      "id": "azvFLUb0xyFE",
      "execution_count": null,
      "outputs": [
        {
          "output_type": "stream",
          "name": "stdout",
          "text": [
            "Total Missing Values:\n",
            "user_id                   0\n",
            "group                     0\n",
            "landing_page              0\n",
            "time_spent_on_the_page    0\n",
            "converted                 0\n",
            "language_preferred        0\n",
            "dtype: int64\n"
          ]
        }
      ]
    },
    {
      "cell_type": "code",
      "source": [
        "duplicates = df[df.duplicated()]\n",
        "print(duplicates)"
      ],
      "metadata": {
        "colab": {
          "base_uri": "https://localhost:8080/"
        },
        "id": "YGIZj92UvWiM",
        "outputId": "468eb761-ab4d-44f6-bb24-2ad75c6621c3"
      },
      "id": "YGIZj92UvWiM",
      "execution_count": null,
      "outputs": [
        {
          "output_type": "stream",
          "name": "stdout",
          "text": [
            "Empty DataFrame\n",
            "Columns: [user_id, group, landing_page, time_spent_on_the_page, converted, language_preferred]\n",
            "Index: []\n"
          ]
        }
      ]
    },
    {
      "cell_type": "markdown",
      "source": [
        "####Observations\n",
        "This data set has 6 columns of interest and 100 rows of observations, which we are assuming is a simple random sample from the population, a good number to work with. Each sample observation is also assumed to be independent of each other. Data types include two numerical columns, one decimal (float64) and one integer (int64), and the remaining 4 columns are categorical (object). This is a pretty clean data set as there are no missing nor duplicate values. It can be noted that the average time spent on the landing page is about 5.4 minutes, and the longest time is just under eleven minutes, at 10.77. Between 5 to 10 minutes is a good amount of time to for the visitor to at least read a few headlines, if not an entire news story, along with possibly interacting with different aspects of the website, such as watching a video. During these critical minutes, it should be our company goal at E-News Express to prompt the visitor to consider a subscription. Something to note is that the shortest amount of time spent on the landing page is under a minute, 0.19, which is about 11 seconds. This raises the question if the user is visiting the page for that short of a time, is there a lack of content catching their eye, or is there something actually driving the user away from the page? Another observation is that of the 100 observations, 54 were converted from visitors to subscribers, so though the decline is an issue we are working to understand and solve, the odds are still in our favor. It can be seen that the most popular language preferred is Spanish, representing 34% of the observations."
      ],
      "metadata": {
        "id": "aA5fD4-rz27P"
      },
      "id": "aA5fD4-rz27P"
    },
    {
      "cell_type": "markdown",
      "metadata": {
        "id": "68f3b2c9"
      },
      "source": [
        "### Univariate Analysis"
      ],
      "id": "68f3b2c9"
    },
    {
      "cell_type": "code",
      "source": [
        "print(\"Number of visitors leaving without subscribing:\",df.loc[df['converted']==\"no\"].value_counts().sum())"
      ],
      "metadata": {
        "colab": {
          "base_uri": "https://localhost:8080/"
        },
        "id": "kSxLccYBMtGv",
        "outputId": "e1737786-ee07-472f-ba3a-211cffa68fb1"
      },
      "id": "kSxLccYBMtGv",
      "execution_count": null,
      "outputs": [
        {
          "output_type": "stream",
          "name": "stdout",
          "text": [
            "Number of visitors leaving without subscribing: 46\n"
          ]
        }
      ]
    },
    {
      "cell_type": "markdown",
      "source": [
        "####Observations\n",
        "Using method value_counts, I found that of the 100 observations there were 46 vistors to the site that left without subscribing, this is our target population! While this is not the majority, we are looking as to why they could possibly leave the site before becoming a patron."
      ],
      "metadata": {
        "id": "vnJx8xTpa5kL"
      },
      "id": "vnJx8xTpa5kL"
    },
    {
      "source": [
        "df['time_spent_on_the_page'].plot(kind='hist', bins=20, title='Time Spent on Landing Page', color='pink', edgecolor='black')\n",
        "plt.xlabel('Time in Minutes')\n",
        "plt.ylabel('Visitors');"
      ],
      "cell_type": "code",
      "execution_count": null,
      "outputs": [
        {
          "output_type": "display_data",
          "data": {
            "text/plain": [
              "<Figure size 640x480 with 1 Axes>"
            ],
            "image/png": "[encoded data removed]"
          },
          "metadata": {}
        }
      ],
      "metadata": {
        "colab": {
          "base_uri": "https://localhost:8080/",
          "height": 472
        },
        "id": "dHuNfTVyuoJl",
        "outputId": "dfa5fcae-8699-4586-ef11-da222098b951"
      },
      "id": "dHuNfTVyuoJl"
    },
    {
      "cell_type": "markdown",
      "source": [
        "####Observations\n",
        "Taking a glance at the time spent on the landing page over both the new and old versions (both control and treatment groups), the distribution is arguably pretty normal, with the average in the middle."
      ],
      "metadata": {
        "id": "sZl0IKahfG5Z"
      },
      "id": "sZl0IKahfG5Z"
    },
    {
      "cell_type": "code",
      "source": [
        "sns.boxplot(data=df['time_spent_on_the_page'], orient='h', color=\"hotpink\")\n",
        "plt.title('Time Spent on Landing Page')\n",
        "plt.xlabel('Time in Minutes');"
      ],
      "metadata": {
        "colab": {
          "base_uri": "https://localhost:8080/",
          "height": 472
        },
        "id": "hCwRdPuSgzSk",
        "outputId": "af483a71-c0dd-4a80-b5f4-c096f8b79e0b"
      },
      "id": "hCwRdPuSgzSk",
      "execution_count": null,
      "outputs": [
        {
          "output_type": "display_data",
          "data": {
            "text/plain": [
              "<Figure size 640x480 with 1 Axes>"
            ],
            "image/png": "[encoded data removed]"
          },
          "metadata": {}
        }
      ]
    },
    {
      "cell_type": "markdown",
      "source": [
        "####Observations\n",
        "Plotting the time spent on the landing page over both the new and old versions (both control and treatment groups) with a boxplot is helpful to check for outliers. The IQR appears very slim in comparison with the rest of the data, but there is no positive or negative skew."
      ],
      "metadata": {
        "id": "Xuj9VK9Dhzm_"
      },
      "id": "Xuj9VK9Dhzm_"
    },
    {
      "cell_type": "code",
      "metadata": {
        "id": "1932d0f3",
        "colab": {
          "base_uri": "https://localhost:8080/",
          "height": 428
        },
        "outputId": "50e3d190-860e-42d2-e755-b1cc18f026d0"
      },
      "source": [
        "diff_langs = df['language_preferred'].value_counts()\n",
        "colors = ['red', 'pink', 'maroon']\n",
        "plt.pie(diff_langs, labels = diff_langs.index, colors=colors, autopct='%1.1f%%')\n",
        "plt.title('Distribution of Languages');"
      ],
      "id": "1932d0f3",
      "execution_count": null,
      "outputs": [
        {
          "output_type": "display_data",
          "data": {
            "text/plain": [
              "<Figure size 640x480 with 1 Axes>"
            ],
            "image/png": "[encoded data removed]"
          },
          "metadata": {}
        }
      ]
    },
    {
      "cell_type": "markdown",
      "source": [
        "####Observations\n",
        "Doing a diagnostic for the data collected, we can see that the observations have been really equally allocated among the various languages. This is reassuring so we can securely say that our A/B testing was done in a manner that was fair, inclusive, and representative."
      ],
      "metadata": {
        "id": "yaxqIKuEioZw"
      },
      "id": "yaxqIKuEioZw"
    },
    {
      "cell_type": "markdown",
      "metadata": {
        "id": "fad2de2f"
      },
      "source": [
        "### Bivariate Analysis"
      ],
      "id": "fad2de2f"
    },
    {
      "cell_type": "code",
      "metadata": {
        "id": "58e9a1d0",
        "colab": {
          "base_uri": "https://localhost:8080/"
        },
        "outputId": "952ca56e-c97e-443f-ad78-fdcce395e273"
      },
      "source": [
        "treatment_mismatches = (df.loc[df['group'] == 'treatment', 'landing_page'] != 'new').sum()\n",
        "control_mismatches = (df.loc[df['group'] == 'control', 'landing_page'] != 'old').sum()\n",
        "\n",
        "print(f\"Number of mismatches in treatment group: {treatment_mismatches}\")\n",
        "print(f\"Number of mismatches in control group: {control_mismatches}\")"
      ],
      "id": "58e9a1d0",
      "execution_count": null,
      "outputs": [
        {
          "output_type": "stream",
          "name": "stdout",
          "text": [
            "Number of mismatches in treatment group: 0\n",
            "Number of mismatches in control group: 0\n"
          ]
        }
      ]
    },
    {
      "cell_type": "markdown",
      "source": [
        "####Observations\n",
        "Though closely related, columns 'landing_page' and 'group' represent different things, yet should still align. In a perfectly conducted A/B test, participants in the control group see the old landing page, and participants in the treatment group see the new landing page. In practice, discrepancies can occur possibly due to technical or data documentation issues. So it's important to cross-check that data so we can move forward with confidence in our inferences. In our case, I tested for mismatches in data between the two columns and I am happy to report there are none."
      ],
      "metadata": {
        "id": "kMCoRLB4BzpR"
      },
      "id": "kMCoRLB4BzpR"
    },
    {
      "cell_type": "code",
      "source": [
        "sns.boxplot(data=df, x='time_spent_on_the_page', y='language_preferred', hue='language_preferred', palette='Reds')\n",
        "plt.title('Preferred Language vs Time Spent on Landing Page')\n",
        "plt.xlabel('Time in Minutes')\n",
        "plt.ylabel('User Language');"
      ],
      "metadata": {
        "colab": {
          "base_uri": "https://localhost:8080/",
          "height": 472
        },
        "id": "vPLjWKD9G32c",
        "outputId": "6de59c44-850d-4ceb-d55a-288607030915"
      },
      "id": "vPLjWKD9G32c",
      "execution_count": null,
      "outputs": [
        {
          "output_type": "display_data",
          "data": {
            "text/plain": [
              "<Figure size 640x480 with 1 Axes>"
            ],
            "image/png": "[encoded data removed]"
          },
          "metadata": {}
        }
      ]
    },
    {
      "cell_type": "markdown",
      "source": [
        "####Observations\n",
        "When plotting the opted language users visit the landing page is vs how long they stay on the page, we see many interesting findings. Firstly, the average time across all 3 languages stays pretty consistent between 5 to 6 minutes. Though all languages have similar dispersion, Spanish is the only language with an outlier. English and French IQR's are similar in size, while the Spanish IQR is the slimmest, indicating differences in variability. Both left and right whiskers seen on the French and English boxplots are comparable, and there is no dramatic skewing to note for any language."
      ],
      "metadata": {
        "id": "zFiTVFWLgV1s"
      },
      "id": "zFiTVFWLgV1s"
    },
    {
      "cell_type": "markdown",
      "metadata": {
        "id": "27906576"
      },
      "source": [
        "## 1. Do the users spend more time on the new landing page than the existing landing page?"
      ],
      "id": "27906576"
    },
    {
      "cell_type": "markdown",
      "metadata": {
        "id": "e5fdf0c8"
      },
      "source": [
        "### Perform Visual Analysis"
      ],
      "id": "e5fdf0c8"
    },
    {
      "cell_type": "code",
      "metadata": {
        "id": "6eZJa41eg21n",
        "colab": {
          "base_uri": "https://localhost:8080/",
          "height": 472
        },
        "outputId": "ca90d262-76c1-4b8a-d64d-6c544a08bd16"
      },
      "source": [
        "sns.boxplot(data=df, x='landing_page', y='time_spent_on_the_page', color='pink')\n",
        "plt.title('Comparison of Time Spent on Old and New Landing Pages')\n",
        "plt.xlabel('Landing Page Version')\n",
        "plt.ylabel('Time in Minutes');"
      ],
      "id": "6eZJa41eg21n",
      "execution_count": null,
      "outputs": [
        {
          "output_type": "display_data",
          "data": {
            "text/plain": [
              "<Figure size 640x480 with 1 Axes>"
            ],
            "image/png": "[encoded data removed]"
          },
          "metadata": {}
        }
      ]
    },
    {
      "cell_type": "markdown",
      "source": [
        "Observations: Using boxplots to visualize time spent on the old versus new version of the landing page, it can be seen that the central tendencies differ and the old landing page has greater dispersion."
      ],
      "metadata": {
        "id": "qlNlO_Et-vLj"
      },
      "id": "qlNlO_Et-vLj"
    },
    {
      "cell_type": "markdown",
      "metadata": {
        "id": "56b3dafd"
      },
      "source": [
        "### Step 1: Define the null and alternate hypotheses"
      ],
      "id": "56b3dafd"
    },
    {
      "cell_type": "markdown",
      "metadata": {
        "id": "d2ac77ef"
      },
      "source": [
        "Representing the mean of the time in minutes spent on each landing page, new and old respectively, with $\\mu_1, \\mu_2$.\n",
        "\n",
        "Null: Users spend the same amount of time on the new and existing landing page.\n",
        "\n",
        "> $H_0: \\mu_1=\\mu_2$\n",
        "\n",
        "Alternate: Users spend more time on the new landing page.\n",
        "\n",
        "> $H_a: \\mu_1≠\\mu_2$"
      ],
      "id": "d2ac77ef"
    },
    {
      "cell_type": "markdown",
      "metadata": {
        "id": "c7ee4907"
      },
      "source": [
        "### Step 2: Select Appropriate test"
      ],
      "id": "c7ee4907"
    },
    {
      "cell_type": "markdown",
      "metadata": {
        "id": "2c183cd7"
      },
      "source": [
        "Since we are testing equality of means for continuous data, where the standard deviation is known and the sample size is greater than 30 - meaning the Central Limit Theorm holds that the distribution of the sample will be normal - we can use: two-sample independent z-test"
      ],
      "id": "2c183cd7"
    },
    {
      "cell_type": "markdown",
      "metadata": {
        "id": "3f58c9a7"
      },
      "source": [
        "### Step 3: Decide the significance level"
      ],
      "id": "3f58c9a7"
    },
    {
      "cell_type": "markdown",
      "metadata": {
        "id": "92d7d7ee"
      },
      "source": [
        "> α=0.05"
      ],
      "id": "92d7d7ee"
    },
    {
      "cell_type": "markdown",
      "metadata": {
        "id": "5fed2eac"
      },
      "source": [
        "### Step 4: Collect and prepare data"
      ],
      "id": "5fed2eac"
    },
    {
      "cell_type": "code",
      "metadata": {
        "id": "f5a59495",
        "colab": {
          "base_uri": "https://localhost:8080/"
        },
        "outputId": "7f6c75a5-ea73-4fb8-d011-602ebef4c343"
      },
      "source": [
        "print('The mean time in mins spent on the new page is ' + str(round(df[df['landing_page'] == 'new']['time_spent_on_the_page'].mean(), 1)))\n",
        "print('The mean time in mins spent on the old page is ' + str(round(df[df['landing_page'] == 'old']['time_spent_on_the_page'].mean(), 1)))"
      ],
      "id": "f5a59495",
      "execution_count": null,
      "outputs": [
        {
          "output_type": "stream",
          "name": "stdout",
          "text": [
            "The mean time in mins spent on the new page is 6.2\n",
            "The mean time in mins spent on the old page is 4.5\n"
          ]
        }
      ]
    },
    {
      "cell_type": "markdown",
      "source": [
        "When pulling the average amount of time for all users spent on the new landing page compared to the old one, there is a difference, but is it statistically significant?"
      ],
      "metadata": {
        "id": "kFNapHbUbFix"
      },
      "id": "kFNapHbUbFix"
    },
    {
      "cell_type": "markdown",
      "metadata": {
        "id": "f5c5258d"
      },
      "source": [
        "### Step 5: Calculate the p-value"
      ],
      "id": "f5c5258d"
    },
    {
      "cell_type": "code",
      "metadata": {
        "id": "fac8594a",
        "colab": {
          "base_uri": "https://localhost:8080/"
        },
        "outputId": "e4b7db82-0de1-437e-f60b-d2b40fa6733e"
      },
      "source": [
        "from statsmodels.stats.weightstats import ztest\n",
        "new_page_data = df[df['landing_page'] == 'new']['time_spent_on_the_page']\n",
        "old_page_data = df[df['landing_page'] == 'old']['time_spent_on_the_page']\n",
        "\n",
        "z_statistic, p_value = ztest(new_page_data, old_page_data)\n",
        "\n",
        "print(\"Z-statistic:\", z_statistic)\n",
        "print(\"P-value:\", p_value)"
      ],
      "id": "fac8594a",
      "execution_count": null,
      "outputs": [
        {
          "output_type": "stream",
          "name": "stdout",
          "text": [
            "Z-statistic: 3.7867702694199856\n",
            "P-value: 0.00015261808068832124\n"
          ]
        }
      ]
    },
    {
      "cell_type": "markdown",
      "metadata": {
        "id": "359b12f8"
      },
      "source": [
        "### Step 6: Compare the p-value with $\\alpha$"
      ],
      "id": "359b12f8"
    },
    {
      "cell_type": "code",
      "metadata": {
        "id": "7be47289",
        "colab": {
          "base_uri": "https://localhost:8080/"
        },
        "outputId": "62139c1a-9b3d-4f5a-b6b4-709070662a44"
      },
      "source": [
        "if p_value < 0.05:\n",
        "    print(f'As the p-value {p_value} is less than the level of significance, we reject the null hypothesis.')\n",
        "else:\n",
        "    print(f'As the p-value {p_value} is greater than the level of significance, we fail to reject the null hypothesis.')"
      ],
      "id": "7be47289",
      "execution_count": null,
      "outputs": [
        {
          "output_type": "stream",
          "name": "stdout",
          "text": [
            "As the p-value 0.00015261808068832124 is less than the level of significance, we reject the null hypothesis.\n"
          ]
        }
      ]
    },
    {
      "cell_type": "markdown",
      "metadata": {
        "id": "d9affc84"
      },
      "source": [
        "### Step 7:  Draw inference"
      ],
      "id": "d9affc84"
    },
    {
      "cell_type": "markdown",
      "metadata": {
        "id": "6b16dd4b"
      },
      "source": [
        "If the p-value is low, the null hypothesis must go. At a 5% significance level, we must reject the null hypothesis. Therefore, we do not have enough statistical evidence to say that the mean time spent on the new and old landing pages are the same."
      ],
      "id": "6b16dd4b"
    },
    {
      "cell_type": "markdown",
      "metadata": {
        "id": "1ad0823a"
      },
      "source": [
        "**A similar approach can be followed to answer the other questions.**"
      ],
      "id": "1ad0823a"
    },
    {
      "cell_type": "markdown",
      "metadata": {
        "id": "353e9d24"
      },
      "source": [
        "## 2. Is the conversion rate (the proportion of users who visit the landing page and get converted) for the new page greater than the conversion rate for the old page?"
      ],
      "id": "353e9d24"
    },
    {
      "cell_type": "code",
      "metadata": {
        "id": "b7f52898",
        "colab": {
          "base_uri": "https://localhost:8080/",
          "height": 472
        },
        "outputId": "b71ac1cc-1d13-48c2-d81c-38dc5d1c61cc"
      },
      "source": [
        "sns.countplot(data=df, x='converted', hue='landing_page', palette='dark:lightpink')\n",
        "plt.xlabel('Subscriber')\n",
        "plt.ylabel('Number of Visitors')\n",
        "plt.title('Conversion Status for New vs Old Landing Pages');"
      ],
      "id": "b7f52898",
      "execution_count": null,
      "outputs": [
        {
          "output_type": "display_data",
          "data": {
            "text/plain": [
              "<Figure size 640x480 with 1 Axes>"
            ],
            "image/png": "[encoded data removed]"
          },
          "metadata": {}
        }
      ]
    },
    {
      "cell_type": "markdown",
      "source": [
        "Observations: One of the easiest ways to preview the success of the new landing page is to measure using the ruler of if a visitor ultimately becomes a subscriber or not. The bar chart above helps us visualize the stark difference between conversion success on the new vs the old page. It is clear to see that there are less than 20 visitors to the new site who don't end up becoming patrons but there are more than 30 to the new page who become patrons. This chart may suggest dependency and a higher success rate from the new page, but let's test to see if we have the evidence to prove this statistically significant."
      ],
      "metadata": {
        "id": "Z9jFt0Z17jLV"
      },
      "id": "Z9jFt0Z17jLV"
    },
    {
      "cell_type": "markdown",
      "source": [
        "Defining my null and alternate hypotheses as the following:\n",
        "\n",
        "> $H_0:$ Website version is independent of conversion rate\n",
        "\n",
        "> $H_a:$ Website version and conversion rate are dependent variables\n",
        "\n",
        "Setting my level of significance to:\n",
        ">  α=0.05"
      ],
      "metadata": {
        "id": "0vwoo-if9t-N"
      },
      "id": "0vwoo-if9t-N"
    },
    {
      "cell_type": "markdown",
      "source": [
        "As I am testing for independence of categorical variables, with random samples of more than 5 observations each, I will run a Chi-square test of independence."
      ],
      "metadata": {
        "id": "nC7Q6F5L95IF"
      },
      "id": "nC7Q6F5L95IF"
    },
    {
      "cell_type": "code",
      "source": [
        "contingency_table = pd.crosstab(df['landing_page'],df['converted'])\n",
        "contingency_table"
      ],
      "metadata": {
        "colab": {
          "base_uri": "https://localhost:8080/",
          "height": 142
        },
        "id": "-Y7CrTvW-MM1",
        "outputId": "11930ff0-8709-4050-8aa6-809519195057"
      },
      "id": "-Y7CrTvW-MM1",
      "execution_count": null,
      "outputs": [
        {
          "output_type": "execute_result",
          "data": {
            "text/plain": [
              "converted     no  yes\n",
              "landing_page         \n",
              "new           17   33\n",
              "old           29   21"
            ],
            "text/html": [
              "\n",
              "  <div id=\"df-4d571836-ac1d-4280-804e-2350a37b6095\" class=\"colab-df-container\">\n",
              "    <div>\n",
              "<style scoped>\n",
              "    .dataframe tbody tr th:only-of-type {\n",
              "        vertical-align: middle;\n",
              "    }\n",
              "\n",
              "    .dataframe tbody tr th {\n",
              "        vertical-align: top;\n",
              "    }\n",
              "\n",
              "    .dataframe thead th {\n",
              "        text-align: right;\n",
              "    }\n",
              "</style>\n",
              "<table border=\"1\" class=\"dataframe\">\n",
              "  <thead>\n",
              "    <tr style=\"text-align: right;\">\n",
              "      <th>converted</th>\n",
              "      <th>no</th>\n",
              "      <th>yes</th>\n",
              "    </tr>\n",
              "    <tr>\n",
              "      <th>landing_page</th>\n",
              "      <th></th>\n",
              "      <th></th>\n",
              "    </tr>\n",
              "  </thead>\n",
              "  <tbody>\n",
              "    <tr>\n",
              "      <th>new</th>\n",
              "      <td>17</td>\n",
              "      <td>33</td>\n",
              "    </tr>\n",
              "    <tr>\n",
              "      <th>old</th>\n",
              "      <td>29</td>\n",
              "      <td>21</td>\n",
              "    </tr>\n",
              "  </tbody>\n",
              "</table>\n",
              "</div>\n",
              "    <div class=\"colab-df-buttons\">\n",
              "\n",
              "  <div class=\"colab-df-container\">\n",
              "    <button class=\"colab-df-convert\" onclick=\"convertToInteractive('df-4d571836-ac1d-4280-804e-2350a37b6095')\"\n",
              "            title=\"Convert this dataframe to an interactive table.\"\n",
              "            style=\"display:none;\">\n",
              "\n",
              "  <svg xmlns=\"http://www.w3.org/2000/svg\" height=\"24px\" viewBox=\"0 -960 960 960\">\n",
              "    <path d=\"M120-120v-720h720v720H120Zm60-500h600v-160H180v160Zm220 220h160v-160H400v160Zm0 220h160v-160H400v160ZM180-400h160v-160H180v160Zm440 0h160v-160H620v160ZM180-180h160v-160H180v160Zm440 0h160v-160H620v160Z\"/>\n",
              "  </svg>\n",
              "    </button>\n",
              "\n",
              "  <style>\n",
              "    .colab-df-container {\n",
              "      display:flex;\n",
              "      gap: 12px;\n",
              "    }\n",
              "\n",
              "    .colab-df-convert {\n",
              "      background-color: #E8F0FE;\n",
              "      border: none;\n",
              "      border-radius: 50%;\n",
              "      cursor: pointer;\n",
              "      display: none;\n",
              "      fill: #1967D2;\n",
              "      height: 32px;\n",
              "      padding: 0 0 0 0;\n",
              "      width: 32px;\n",
              "    }\n",
              "\n",
              "    .colab-df-convert:hover {\n",
              "      background-color: #E2EBFA;\n",
              "      box-shadow: 0px 1px 2px rgba(60, 64, 67, 0.3), 0px 1px 3px 1px rgba(60, 64, 67, 0.15);\n",
              "      fill: #174EA6;\n",
              "    }\n",
              "\n",
              "    .colab-df-buttons div {\n",
              "      margin-bottom: 4px;\n",
              "    }\n",
              "\n",
              "    [theme=dark] .colab-df-convert {\n",
              "      background-color: #3B4455;\n",
              "      fill: #D2E3FC;\n",
              "    }\n",
              "\n",
              "    [theme=dark] .colab-df-convert:hover {\n",
              "      background-color: #434B5C;\n",
              "      box-shadow: 0px 1px 3px 1px rgba(0, 0, 0, 0.15);\n",
              "      filter: drop-shadow(0px 1px 2px rgba(0, 0, 0, 0.3));\n",
              "      fill: #FFFFFF;\n",
              "    }\n",
              "  </style>\n",
              "\n",
              "    <script>\n",
              "      const buttonEl =\n",
              "        document.querySelector('#df-4d571836-ac1d-4280-804e-2350a37b6095 button.colab-df-convert');\n",
              "      buttonEl.style.display =\n",
              "        google.colab.kernel.accessAllowed ? 'block' : 'none';\n",
              "\n",
              "      async function convertToInteractive(key) {\n",
              "        const element = document.querySelector('#df-4d571836-ac1d-4280-804e-2350a37b6095');\n",
              "        const dataTable =\n",
              "          await google.colab.kernel.invokeFunction('convertToInteractive',\n",
              "                                                    [key], {});\n",
              "        if (!dataTable) return;\n",
              "\n",
              "        const docLinkHtml = 'Like what you see? Visit the ' +\n",
              "          '<a target=\"_blank\" href=https://colab.research.google.com/notebooks/data_table.ipynb>data table notebook</a>'\n",
              "          + ' to learn more about interactive tables.';\n",
              "        element.innerHTML = '';\n",
              "        dataTable['output_type'] = 'display_data';\n",
              "        await google.colab.output.renderOutput(dataTable, element);\n",
              "        const docLink = document.createElement('div');\n",
              "        docLink.innerHTML = docLinkHtml;\n",
              "        element.appendChild(docLink);\n",
              "      }\n",
              "    </script>\n",
              "  </div>\n",
              "\n",
              "\n",
              "<div id=\"df-fee4dcfc-4000-4754-8cd8-2ba4371f79ff\">\n",
              "  <button class=\"colab-df-quickchart\" onclick=\"quickchart('df-fee4dcfc-4000-4754-8cd8-2ba4371f79ff')\"\n",
              "            title=\"Suggest charts\"\n",
              "            style=\"display:none;\">\n",
              "\n",
              "<svg xmlns=\"http://www.w3.org/2000/svg\" height=\"24px\"viewBox=\"0 0 24 24\"\n",
              "     width=\"24px\">\n",
              "    <g>\n",
              "        <path d=\"M19 3H5c-1.1 0-2 .9-2 2v14c0 1.1.9 2 2 2h14c1.1 0 2-.9 2-2V5c0-1.1-.9-2-2-2zM9 17H7v-7h2v7zm4 0h-2V7h2v10zm4 0h-2v-4h2v4z\"/>\n",
              "    </g>\n",
              "</svg>\n",
              "  </button>\n",
              "\n",
              "<style>\n",
              "  .colab-df-quickchart {\n",
              "      --bg-color: #E8F0FE;\n",
              "      --fill-color: #1967D2;\n",
              "      --hover-bg-color: #E2EBFA;\n",
              "      --hover-fill-color: #174EA6;\n",
              "      --disabled-fill-color: #AAA;\n",
              "      --disabled-bg-color: #DDD;\n",
              "  }\n",
              "\n",
              "  [theme=dark] .colab-df-quickchart {\n",
              "      --bg-color: #3B4455;\n",
              "      --fill-color: #D2E3FC;\n",
              "      --hover-bg-color: #434B5C;\n",
              "      --hover-fill-color: #FFFFFF;\n",
              "      --disabled-bg-color: #3B4455;\n",
              "      --disabled-fill-color: #666;\n",
              "  }\n",
              "\n",
              "  .colab-df-quickchart {\n",
              "    background-color: var(--bg-color);\n",
              "    border: none;\n",
              "    border-radius: 50%;\n",
              "    cursor: pointer;\n",
              "    display: none;\n",
              "    fill: var(--fill-color);\n",
              "    height: 32px;\n",
              "    padding: 0;\n",
              "    width: 32px;\n",
              "  }\n",
              "\n",
              "  .colab-df-quickchart:hover {\n",
              "    background-color: var(--hover-bg-color);\n",
              "    box-shadow: 0 1px 2px rgba(60, 64, 67, 0.3), 0 1px 3px 1px rgba(60, 64, 67, 0.15);\n",
              "    fill: var(--button-hover-fill-color);\n",
              "  }\n",
              "\n",
              "  .colab-df-quickchart-complete:disabled,\n",
              "  .colab-df-quickchart-complete:disabled:hover {\n",
              "    background-color: var(--disabled-bg-color);\n",
              "    fill: var(--disabled-fill-color);\n",
              "    box-shadow: none;\n",
              "  }\n",
              "\n",
              "  .colab-df-spinner {\n",
              "    border: 2px solid var(--fill-color);\n",
              "    border-color: transparent;\n",
              "    border-bottom-color: var(--fill-color);\n",
              "    animation:\n",
              "      spin 1s steps(1) infinite;\n",
              "  }\n",
              "\n",
              "  @keyframes spin {\n",
              "    0% {\n",
              "      border-color: transparent;\n",
              "      border-bottom-color: var(--fill-color);\n",
              "      border-left-color: var(--fill-color);\n",
              "    }\n",
              "    20% {\n",
              "      border-color: transparent;\n",
              "      border-left-color: var(--fill-color);\n",
              "      border-top-color: var(--fill-color);\n",
              "    }\n",
              "    30% {\n",
              "      border-color: transparent;\n",
              "      border-left-color: var(--fill-color);\n",
              "      border-top-color: var(--fill-color);\n",
              "      border-right-color: var(--fill-color);\n",
              "    }\n",
              "    40% {\n",
              "      border-color: transparent;\n",
              "      border-right-color: var(--fill-color);\n",
              "      border-top-color: var(--fill-color);\n",
              "    }\n",
              "    60% {\n",
              "      border-color: transparent;\n",
              "      border-right-color: var(--fill-color);\n",
              "    }\n",
              "    80% {\n",
              "      border-color: transparent;\n",
              "      border-right-color: var(--fill-color);\n",
              "      border-bottom-color: var(--fill-color);\n",
              "    }\n",
              "    90% {\n",
              "      border-color: transparent;\n",
              "      border-bottom-color: var(--fill-color);\n",
              "    }\n",
              "  }\n",
              "</style>\n",
              "\n",
              "  <script>\n",
              "    async function quickchart(key) {\n",
              "      const quickchartButtonEl =\n",
              "        document.querySelector('#' + key + ' button');\n",
              "      quickchartButtonEl.disabled = true;  // To prevent multiple clicks.\n",
              "      quickchartButtonEl.classList.add('colab-df-spinner');\n",
              "      try {\n",
              "        const charts = await google.colab.kernel.invokeFunction(\n",
              "            'suggestCharts', [key], {});\n",
              "      } catch (error) {\n",
              "        console.error('Error during call to suggestCharts:', error);\n",
              "      }\n",
              "      quickchartButtonEl.classList.remove('colab-df-spinner');\n",
              "      quickchartButtonEl.classList.add('colab-df-quickchart-complete');\n",
              "    }\n",
              "    (() => {\n",
              "      let quickchartButtonEl =\n",
              "        document.querySelector('#df-fee4dcfc-4000-4754-8cd8-2ba4371f79ff button');\n",
              "      quickchartButtonEl.style.display =\n",
              "        google.colab.kernel.accessAllowed ? 'block' : 'none';\n",
              "    })();\n",
              "  </script>\n",
              "</div>\n",
              "\n",
              "  <div id=\"id_a1759979-1442-4072-8601-ae4bc046520f\">\n",
              "    <style>\n",
              "      .colab-df-generate {\n",
              "        background-color: #E8F0FE;\n",
              "        border: none;\n",
              "        border-radius: 50%;\n",
              "        cursor: pointer;\n",
              "        display: none;\n",
              "        fill: #1967D2;\n",
              "        height: 32px;\n",
              "        padding: 0 0 0 0;\n",
              "        width: 32px;\n",
              "      }\n",
              "\n",
              "      .colab-df-generate:hover {\n",
              "        background-color: #E2EBFA;\n",
              "        box-shadow: 0px 1px 2px rgba(60, 64, 67, 0.3), 0px 1px 3px 1px rgba(60, 64, 67, 0.15);\n",
              "        fill: #174EA6;\n",
              "      }\n",
              "\n",
              "      [theme=dark] .colab-df-generate {\n",
              "        background-color: #3B4455;\n",
              "        fill: #D2E3FC;\n",
              "      }\n",
              "\n",
              "      [theme=dark] .colab-df-generate:hover {\n",
              "        background-color: #434B5C;\n",
              "        box-shadow: 0px 1px 3px 1px rgba(0, 0, 0, 0.15);\n",
              "        filter: drop-shadow(0px 1px 2px rgba(0, 0, 0, 0.3));\n",
              "        fill: #FFFFFF;\n",
              "      }\n",
              "    </style>\n",
              "    <button class=\"colab-df-generate\" onclick=\"generateWithVariable('contingency_table')\"\n",
              "            title=\"Generate code using this dataframe.\"\n",
              "            style=\"display:none;\">\n",
              "\n",
              "  <svg xmlns=\"http://www.w3.org/2000/svg\" height=\"24px\"viewBox=\"0 0 24 24\"\n",
              "       width=\"24px\">\n",
              "    <path d=\"M7,19H8.4L18.45,9,17,7.55,7,17.6ZM5,21V16.75L18.45,3.32a2,2,0,0,1,2.83,0l1.4,1.43a1.91,1.91,0,0,1,.58,1.4,1.91,1.91,0,0,1-.58,1.4L9.25,21ZM18.45,9,17,7.55Zm-12,3A5.31,5.31,0,0,0,4.9,8.1,5.31,5.31,0,0,0,1,6.5,5.31,5.31,0,0,0,4.9,4.9,5.31,5.31,0,0,0,6.5,1,5.31,5.31,0,0,0,8.1,4.9,5.31,5.31,0,0,0,12,6.5,5.46,5.46,0,0,0,6.5,12Z\"/>\n",
              "  </svg>\n",
              "    </button>\n",
              "    <script>\n",
              "      (() => {\n",
              "      const buttonEl =\n",
              "        document.querySelector('#id_a1759979-1442-4072-8601-ae4bc046520f button.colab-df-generate');\n",
              "      buttonEl.style.display =\n",
              "        google.colab.kernel.accessAllowed ? 'block' : 'none';\n",
              "\n",
              "      buttonEl.onclick = () => {\n",
              "        google.colab.notebook.generateWithVariable('contingency_table');\n",
              "      }\n",
              "      })();\n",
              "    </script>\n",
              "  </div>\n",
              "\n",
              "    </div>\n",
              "  </div>\n"
            ],
            "application/vnd.google.colaboratory.intrinsic+json": {
              "type": "dataframe",
              "variable_name": "contingency_table",
              "summary": "{\n  \"name\": \"contingency_table\",\n  \"rows\": 2,\n  \"fields\": [\n    {\n      \"column\": \"no\",\n      \"properties\": {\n        \"dtype\": \"number\",\n        \"std\": 8,\n        \"min\": 17,\n        \"max\": 29,\n        \"num_unique_values\": 2,\n        \"samples\": [\n          29,\n          17\n        ],\n        \"semantic_type\": \"\",\n        \"description\": \"\"\n      }\n    },\n    {\n      \"column\": \"yes\",\n      \"properties\": {\n        \"dtype\": \"number\",\n        \"std\": 8,\n        \"min\": 21,\n        \"max\": 33,\n        \"num_unique_values\": 2,\n        \"samples\": [\n          21,\n          33\n        ],\n        \"semantic_type\": \"\",\n        \"description\": \"\"\n      }\n    }\n  ]\n}"
            }
          },
          "metadata": {},
          "execution_count": 46
        }
      ]
    },
    {
      "cell_type": "markdown",
      "source": [
        "After some preperation of data, we can filter out the variables we are focusing on. This contingency table not only summarizes our focus points but also aids in running the Chi-square test."
      ],
      "metadata": {
        "id": "OYzhI6r0_Tyt"
      },
      "id": "OYzhI6r0_Tyt"
    },
    {
      "cell_type": "code",
      "source": [
        "chi2, pval, dof, exp_freq = chi2_contingency(contingency_table)\n",
        "print('The p-value is', pval)"
      ],
      "metadata": {
        "colab": {
          "base_uri": "https://localhost:8080/"
        },
        "id": "YvtCknlk_KjE",
        "outputId": "39dddaf3-6d99-402e-ba7b-b59d3673c64a"
      },
      "id": "YvtCknlk_KjE",
      "execution_count": null,
      "outputs": [
        {
          "output_type": "stream",
          "name": "stdout",
          "text": [
            "The p-value is 0.02730889175492232\n"
          ]
        }
      ]
    },
    {
      "cell_type": "code",
      "source": [
        "if p_value < 0.05:\n",
        "    print(f'As the p-value {p_value} is less than the level of significance, we reject the null hypothesis.')\n",
        "else:\n",
        "    print(f'As the p-value {p_value} is greater than the level of significance, we fail to reject the null hypothesis.')"
      ],
      "metadata": {
        "colab": {
          "base_uri": "https://localhost:8080/"
        },
        "id": "qn23xNP1_mTF",
        "outputId": "a83a2fd5-5281-4eee-91e9-a8d4f417583c"
      },
      "id": "qn23xNP1_mTF",
      "execution_count": null,
      "outputs": [
        {
          "output_type": "stream",
          "name": "stdout",
          "text": [
            "As the p-value 0.8665610536012648 is greater than the level of significance, we fail to reject the null hypothesis.\n"
          ]
        }
      ]
    },
    {
      "cell_type": "markdown",
      "source": [
        "The null hypothesis cannot be rejected with the obtained p-value exceeding the predetermined significance level. As a result, there is insufficient evidence at a 5% significance level to suggest that version of the website whether new or old actually has a relation to the conversion rate."
      ],
      "metadata": {
        "id": "ojWA89NL_89h"
      },
      "id": "ojWA89NL_89h"
    },
    {
      "cell_type": "markdown",
      "metadata": {
        "id": "d49bfa2d"
      },
      "source": [
        "## 3. Is the conversion and preferred language independent or related?"
      ],
      "id": "d49bfa2d"
    },
    {
      "cell_type": "code",
      "metadata": {
        "id": "b0e63f17",
        "colab": {
          "base_uri": "https://localhost:8080/",
          "height": 472
        },
        "outputId": "621b70ad-371c-4220-a6c4-43165b1e5fdf"
      },
      "source": [
        "pivot_table = df.pivot_table(index='language_preferred', columns='converted',aggfunc='size', fill_value=0)\n",
        "sns.heatmap(pivot_table, annot=True, fmt='d', cmap='Reds')\n",
        "plt.title('Preferred Language vs Conversion Status')\n",
        "plt.xlabel('Conversion Status')\n",
        "plt.ylabel('Preferred Language');"
      ],
      "id": "b0e63f17",
      "execution_count": null,
      "outputs": [
        {
          "output_type": "display_data",
          "data": {
            "text/plain": [
              "<Figure size 640x480 with 2 Axes>"
            ],
            "image/png": "[encoded data removed]"
          },
          "metadata": {}
        }
      ]
    },
    {
      "cell_type": "markdown",
      "source": [
        "Observations: I want to visually represent whether or not certain languages have higher or lower conversion rates, so I opted to use a pivot table and heatmap. Looking at the results, the darkest color is subscribers in the English language, but we need to test if this is a suggestion of dependency, and if it is statistically significant or not."
      ],
      "metadata": {
        "id": "PpB2ttzD1t2P"
      },
      "id": "PpB2ttzD1t2P"
    },
    {
      "cell_type": "markdown",
      "source": [
        "Defining my null and alternate hypotheses as the following:\n",
        "\n",
        "> $H_0:$ Preferred language is independent of conversion rate\n",
        "\n",
        "> $H_a:$ Preferred language and conversion rate are dependent variables\n",
        "\n",
        "Setting my level of significance to:\n",
        ">  α=0.05"
      ],
      "metadata": {
        "id": "A50EgHyQ5r0X"
      },
      "id": "A50EgHyQ5r0X"
    },
    {
      "cell_type": "markdown",
      "source": [
        "As I am testing for independence of categorical variables, with random samples of more than 5 observations each, I will run a Chi-square test of independence."
      ],
      "metadata": {
        "id": "Fcfb05-XO-Dg"
      },
      "id": "Fcfb05-XO-Dg"
    },
    {
      "cell_type": "code",
      "source": [
        "from scipy.stats import chi2_contingency\n",
        "chi, p_value, dof, expected = chi2_contingency(pivot_table)\n",
        "print('The p-value is', p_value)"
      ],
      "metadata": {
        "colab": {
          "base_uri": "https://localhost:8080/"
        },
        "id": "kRRuN_uC8Lcz",
        "outputId": "7d4c470c-73f0-4f71-f616-3d694d4e5086"
      },
      "id": "kRRuN_uC8Lcz",
      "execution_count": null,
      "outputs": [
        {
          "output_type": "stream",
          "name": "stdout",
          "text": [
            "The p-value is 0.2129888748754345\n"
          ]
        }
      ]
    },
    {
      "cell_type": "code",
      "source": [
        "if p_value < 0.05:\n",
        "    print(f'As the p-value {p_value} is less than the level of significance, we reject the null hypothesis.')\n",
        "else:\n",
        "    print(f'As the p-value {p_value} is greater than the level of significance, we fail to reject the null hypothesis.')"
      ],
      "metadata": {
        "colab": {
          "base_uri": "https://localhost:8080/"
        },
        "id": "ggbu0S1b_Tck",
        "outputId": "ad04ea4a-4a71-44be-c350-f7a11837cf35"
      },
      "id": "ggbu0S1b_Tck",
      "execution_count": null,
      "outputs": [
        {
          "output_type": "stream",
          "name": "stdout",
          "text": [
            "As the p-value 0.2129888748754345 is greater than the level of significance, we fail to reject the null hypothesis.\n"
          ]
        }
      ]
    },
    {
      "cell_type": "markdown",
      "source": [
        "The resulting p-value is higher than the previously assigned level of significance. Therefore, I fail to reject the null hypothesis. Consequently, there is insufficient evidence at a statistical significance level of 5% to conclude that language preference is independent of conversion rate."
      ],
      "metadata": {
        "id": "20m189Vo9z1X"
      },
      "id": "20m189Vo9z1X"
    },
    {
      "cell_type": "markdown",
      "metadata": {
        "id": "8d585a90"
      },
      "source": [
        "## 4. Is the time spent on the new page same for the different language users?"
      ],
      "id": "8d585a90"
    },
    {
      "cell_type": "code",
      "metadata": {
        "id": "b422f395",
        "colab": {
          "base_uri": "https://localhost:8080/",
          "height": 472
        },
        "outputId": "20681ded-2720-41a1-d052-deea46cbcbee"
      },
      "source": [
        "sns.violinplot(data=df[df['landing_page'] == 'new'], x='time_spent_on_the_page', y='language_preferred', hue='language_preferred', palette='Reds')\n",
        "plt.title('Preferred Language vs Time Spent on Landing Page')\n",
        "plt.xlabel('Time in Minutes')\n",
        "plt.ylabel('User Language')\n",
        "plt.title('Preferred Language');"
      ],
      "id": "b422f395",
      "execution_count": null,
      "outputs": [
        {
          "output_type": "display_data",
          "data": {
            "text/plain": [
              "<Figure size 640x480 with 1 Axes>"
            ],
            "image/png": "[encoded data removed]"
          },
          "metadata": {}
        }
      ]
    },
    {
      "cell_type": "markdown",
      "source": [
        "Observations: Opting for a violin plot to explore the relationship between language preference of the visitor and the length of their stay on the landing page. This allows me to visualize the distribution of the time, a numeric variable, for several groups, the multiple languages. Though central tendencies are slightly similar (more so English and French, less so Spanish), viewing the data in this manner gives us key insight into the density estimates on the y-axis. This is helpful as we can always compare means and outliers, but mode may suggest a different story in regards to time on the landing page. For example, from these plots one could say French and English language users interact with the website for longer amounts of time than Spanish-language users. Lastly, we can see Spanish language users have an ever so slight skew."
      ],
      "metadata": {
        "id": "XSWJqb04EBdE"
      },
      "id": "XSWJqb04EBdE"
    },
    {
      "cell_type": "markdown",
      "source": [
        "Defining my null and alternate hypotheses as the following:\n",
        "\n",
        "Assigning $\\mu_1, \\mu_2, \\mu_3$ be the means of time spent in minutes on the landing page for each preferred language, English, French, and Spanish respectively.\n",
        "\n",
        ">$H_0: \\mu_1 = \\mu_2 = \\mu_3$\n",
        "\n",
        ">$H_a:$ At least one chosen language averages a different amount of time spent on the landing page compared to the rest.\n",
        "\n",
        "Setting my level of significance to:\n",
        ">  α=0.05"
      ],
      "metadata": {
        "id": "pU7iArw1FvFs"
      },
      "id": "pU7iArw1FvFs"
    },
    {
      "cell_type": "code",
      "source": [
        "df['language_preferred'].value_counts()"
      ],
      "metadata": {
        "colab": {
          "base_uri": "https://localhost:8080/"
        },
        "id": "P7_6YaLSGwTu",
        "outputId": "48cbb595-5d6a-453a-da56-73e959231bc6"
      },
      "id": "P7_6YaLSGwTu",
      "execution_count": null,
      "outputs": [
        {
          "output_type": "execute_result",
          "data": {
            "text/plain": [
              "Spanish    34\n",
              "French     34\n",
              "English    32\n",
              "Name: language_preferred, dtype: int64"
            ]
          },
          "metadata": {},
          "execution_count": 24
        }
      ]
    },
    {
      "cell_type": "markdown",
      "source": [
        "As I am looking to compare the means of three groups, I can run the ANOVA test, but prior to that it is crucial to ensure that the assumptions are met including:\n",
        "*   Normality - testing that data was drawn from a normal distribution\n",
        "*   Homogeneity of Variances - testing the variance is equal across groups"
      ],
      "metadata": {
        "id": "AeZpnwiwt93b"
      },
      "id": "AeZpnwiwt93b"
    },
    {
      "cell_type": "markdown",
      "source": [
        "Shapiro-Wilk's to test normality\n",
        "\n",
        ">$H_0:$ Time spent on landing page follows a normal distribution\n",
        "\n",
        ">$H_a:$ Time spent on landing page does not follow a normal distribution"
      ],
      "metadata": {
        "id": "pxY7ztcozDj-"
      },
      "id": "pxY7ztcozDj-"
    },
    {
      "cell_type": "code",
      "source": [
        "from scipy import stats\n",
        "w, p_value = stats.shapiro(df['time_spent_on_the_page'])\n",
        "print('The p-value is', p_value)"
      ],
      "metadata": {
        "colab": {
          "base_uri": "https://localhost:8080/"
        },
        "id": "FSt899stzNAS",
        "outputId": "6011ced9-eae7-46fb-e6f2-e15624e3ea3e"
      },
      "id": "FSt899stzNAS",
      "execution_count": null,
      "outputs": [
        {
          "output_type": "stream",
          "name": "stdout",
          "text": [
            "The p-value is 0.5643193125724792\n"
          ]
        }
      ]
    },
    {
      "cell_type": "markdown",
      "source": [
        "Due to the test's significantly high p-value, one that is greater than the level of significance, we cannot reject the null hypothesis, indicating that the data adheres to a normal distribution."
      ],
      "metadata": {
        "id": "2xhhzJlvzxCZ"
      },
      "id": "2xhhzJlvzxCZ"
    },
    {
      "cell_type": "markdown",
      "source": [
        "Levene's to test equal variences\n",
        "\n",
        ">$H_0$: All 3 preferred languages display equal variances\n",
        "\n",
        ">$H_a$: At least one preferred language displays a variance different from the rest"
      ],
      "metadata": {
        "id": "RbqrDdfaz8hL"
      },
      "id": "RbqrDdfaz8hL"
    },
    {
      "cell_type": "code",
      "source": [
        "from scipy.stats import levene\n",
        "statistic, p_value = levene(df['time_spent_on_the_page'][df['language_preferred']==\"English\"],\n",
        "                                   df['time_spent_on_the_page'][df['language_preferred']==\"French\"],\n",
        "                                   df['time_spent_on_the_page'][df['language_preferred']==\"Spanish\"])\n",
        "print('The p-value is', p_value)"
      ],
      "metadata": {
        "colab": {
          "base_uri": "https://localhost:8080/"
        },
        "id": "YFwRCjcN1Wlk",
        "outputId": "21357ba5-583c-4f4f-cc99-efeaf8b125e9"
      },
      "id": "YFwRCjcN1Wlk",
      "execution_count": null,
      "outputs": [
        {
          "output_type": "stream",
          "name": "stdout",
          "text": [
            "The p-value is 0.06515086840327314\n"
          ]
        }
      ]
    },
    {
      "cell_type": "markdown",
      "source": [
        "Given the large p-value, greater than the level of significance, we fail to reject the null hypothesis of homogeneity of variances."
      ],
      "metadata": {
        "id": "tkfZrgmg13vV"
      },
      "id": "tkfZrgmg13vV"
    },
    {
      "cell_type": "markdown",
      "source": [
        "Two failures shouldn't make a success but in our lucky case, since both null hypotheses for the Shapiro-Wilk's and Levene's test experienced failure to be rejected, this is a great sign. Results of these test indicate that assumptions for the ANOVA test have been satisfied: the populations are normally distributed (S-W) and the population variances are equal (L). Before conducting ANOVA, we have one more assumption to verify which is that samples are independent simple random samples, which was provided to us as true per company. Let's run a one-way ANOVA"
      ],
      "metadata": {
        "id": "_eZUOTnD2X7F"
      },
      "id": "_eZUOTnD2X7F"
    },
    {
      "cell_type": "code",
      "source": [
        "from scipy.stats import f_oneway\n",
        "test_stat, p_value = f_oneway(df.loc[df['language_preferred'] == 'English', 'time_spent_on_the_page'],\n",
        "                              df.loc[df['language_preferred'] == 'French', 'time_spent_on_the_page'],\n",
        "                              df.loc[df['language_preferred'] == 'Spanish', 'time_spent_on_the_page'])\n",
        "print('The p-value is', p_value)"
      ],
      "metadata": {
        "colab": {
          "base_uri": "https://localhost:8080/"
        },
        "id": "buqepIrf3vnD",
        "outputId": "f0a3af32-d226-4a09-d65d-9e098de7007e"
      },
      "id": "buqepIrf3vnD",
      "execution_count": null,
      "outputs": [
        {
          "output_type": "stream",
          "name": "stdout",
          "text": [
            "The p-value is 0.8665610536012648\n"
          ]
        }
      ]
    },
    {
      "cell_type": "code",
      "source": [
        "if p_value < 0.05:\n",
        "    print(f'As the p-value {p_value} is less than the level of significance, we reject the null hypothesis.')\n",
        "else:\n",
        "    print(f'As the p-value {p_value} is greater than the level of significance, we fail to reject the null hypothesis.')"
      ],
      "metadata": {
        "colab": {
          "base_uri": "https://localhost:8080/"
        },
        "id": "IponGQov4ujl",
        "outputId": "8e415624-83d5-41c3-9fb2-ff595949a264"
      },
      "id": "IponGQov4ujl",
      "execution_count": null,
      "outputs": [
        {
          "output_type": "stream",
          "name": "stdout",
          "text": [
            "As the p-value 0.8665610536012648 is greater than the level of significance, we fail to reject the null hypothesis.\n"
          ]
        }
      ]
    },
    {
      "cell_type": "markdown",
      "source": [
        "The obtained p-value exceeds the predetermined significance threshold of 0.05, leading to the acceptance of the null hypothesis. Thus, at a 5% level of statistical significance, there is inadequate evidence to assert that language preference has an effect on the amount of time spent on the website."
      ],
      "metadata": {
        "id": "kezirYZS46Fg"
      },
      "id": "kezirYZS46Fg"
    },
    {
      "cell_type": "markdown",
      "metadata": {
        "id": "3acbc947"
      },
      "source": [
        "## Conclusion and Business Recommendations"
      ],
      "id": "3acbc947"
    },
    {
      "cell_type": "markdown",
      "metadata": {
        "id": "21fb1063"
      },
      "source": [
        "After thourough investigation of all variables given to the team at E-News Express, we can confirm that"
      ],
      "id": "21fb1063"
    },
    {
      "cell_type": "markdown",
      "source": [
        "___"
      ],
      "metadata": {
        "id": "U0dAd4i0iCHo"
      },
      "id": "U0dAd4i0iCHo"
    }
  ]
}